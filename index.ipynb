{
 "cells": [
  {
   "cell_type": "code",
   "execution_count": 2,
   "metadata": {
    "collapsed": true
   },
   "outputs": [],
   "source": [
    "import gzip\n",
    "from io import StringIO\n",
    "\n",
    "import numpy as np\n",
    "import pandas as pd\n",
    "\n",
    "from sklearn import preprocessing\n",
    "from sklearn import svm\n",
    "from sklearn.tree import DecisionTreeClassifier, export_graphviz\n",
    "# from sklearn.cluster import KMeans\n",
    "# from sklearn.decomposition import PCA\n",
    "# from sklearn.metrics import silhouette_score"
   ]
  },
  {
   "cell_type": "code",
   "execution_count": 3,
   "metadata": {
    "collapsed": true
   },
   "outputs": [],
   "source": [
    "import matplotlib.pyplot as plt\n",
    "import seaborn as sns\n",
    "\n",
    "sns.set_style(\"whitegrid\")\n",
    "\n",
    "%matplotlib inline\n",
    "plt.rcParams['figure.figsize'] = (16.0, 8.0)"
   ]
  },
  {
   "cell_type": "code",
   "execution_count": 4,
   "metadata": {
    "collapsed": false
   },
   "outputs": [],
   "source": [
    "columns = ['time', 'missing_info', 'job_id', 'task_index',\n",
    "           'machine_id', 'event_type', 'user', 'scheduling_class',\n",
    "           'priority', 'cpu_request', 'memory_request',\n",
    "           'disk_space_request', 'different_machines_restriction']\n",
    "\n",
    "fn = 'task_events_part-00001-of-00500.csv.gz'\n",
    "with gzip.open(fn, 'r') as csv_file:\n",
    "    df = pd.DataFrame.from_csv(csv_file, header=0, index_col=None)\n",
    "    df.columns = columns\n",
    "\n",
    "# cast unnecessary float to int\n",
    "for col in ['event_type', 'scheduling_class', 'priority']:\n",
    "    df[col] = df[col].astype(np.int)\n",
    "    \n",
    "df.different_machines_restriction = df.different_machines_restriction.astype(bool)"
   ]
  },
  {
   "cell_type": "markdown",
   "metadata": {},
   "source": [
    "## Decision Trees"
   ]
  },
  {
   "cell_type": "code",
   "execution_count": 5,
   "metadata": {
    "collapsed": false
   },
   "outputs": [],
   "source": [
    "event_select = [3, 4, 5]\n",
    "tf = df[df.event_type.isin(event_select)][['event_type', 'cpu_request', 'memory_request', 'priority', 'scheduling_class']]"
   ]
  },
  {
   "cell_type": "markdown",
   "metadata": {},
   "source": [
    "### Data Balancing"
   ]
  },
  {
   "cell_type": "code",
   "execution_count": 6,
   "metadata": {
    "collapsed": false
   },
   "outputs": [
    {
     "data": {
      "text/html": [
       "<div>\n",
       "<table border=\"1\" class=\"dataframe\">\n",
       "  <thead>\n",
       "    <tr style=\"text-align: right;\">\n",
       "      <th></th>\n",
       "      <th>cpu_request</th>\n",
       "      <th>memory_request</th>\n",
       "      <th>priority</th>\n",
       "      <th>scheduling_class</th>\n",
       "    </tr>\n",
       "    <tr>\n",
       "      <th>event_type</th>\n",
       "      <th></th>\n",
       "      <th></th>\n",
       "      <th></th>\n",
       "      <th></th>\n",
       "    </tr>\n",
       "  </thead>\n",
       "  <tbody>\n",
       "    <tr>\n",
       "      <th>3</th>\n",
       "      <td>501</td>\n",
       "      <td>501</td>\n",
       "      <td>501</td>\n",
       "      <td>501</td>\n",
       "    </tr>\n",
       "    <tr>\n",
       "      <th>4</th>\n",
       "      <td>14550</td>\n",
       "      <td>14550</td>\n",
       "      <td>14550</td>\n",
       "      <td>14550</td>\n",
       "    </tr>\n",
       "    <tr>\n",
       "      <th>5</th>\n",
       "      <td>8171</td>\n",
       "      <td>8171</td>\n",
       "      <td>8171</td>\n",
       "      <td>8171</td>\n",
       "    </tr>\n",
       "  </tbody>\n",
       "</table>\n",
       "</div>"
      ],
      "text/plain": [
       "            cpu_request  memory_request  priority  scheduling_class\n",
       "event_type                                                         \n",
       "3                   501             501       501               501\n",
       "4                 14550           14550     14550             14550\n",
       "5                  8171            8171      8171              8171"
      ]
     },
     "execution_count": 6,
     "metadata": {},
     "output_type": "execute_result"
    }
   ],
   "source": [
    "tf.groupby(tf.event_type).count()"
   ]
  },
  {
   "cell_type": "code",
   "execution_count": 7,
   "metadata": {
    "collapsed": false
   },
   "outputs": [],
   "source": [
    "m = tf.groupby(tf.event_type).count().min().values[0]\n",
    "\n",
    "for event in event_select:\n",
    "    tf[tf.event_type==event] = tf[tf.event_type==event][:m]\n",
    "\n",
    "tf = tf.dropna(axis=0)"
   ]
  },
  {
   "cell_type": "code",
   "execution_count": 8,
   "metadata": {
    "collapsed": false
   },
   "outputs": [
    {
     "data": {
      "text/html": [
       "<div>\n",
       "<table border=\"1\" class=\"dataframe\">\n",
       "  <thead>\n",
       "    <tr style=\"text-align: right;\">\n",
       "      <th></th>\n",
       "      <th>cpu_request</th>\n",
       "      <th>memory_request</th>\n",
       "      <th>priority</th>\n",
       "      <th>scheduling_class</th>\n",
       "    </tr>\n",
       "    <tr>\n",
       "      <th>event_type</th>\n",
       "      <th></th>\n",
       "      <th></th>\n",
       "      <th></th>\n",
       "      <th></th>\n",
       "    </tr>\n",
       "  </thead>\n",
       "  <tbody>\n",
       "    <tr>\n",
       "      <th>3.0</th>\n",
       "      <td>501</td>\n",
       "      <td>501</td>\n",
       "      <td>501</td>\n",
       "      <td>501</td>\n",
       "    </tr>\n",
       "    <tr>\n",
       "      <th>4.0</th>\n",
       "      <td>501</td>\n",
       "      <td>501</td>\n",
       "      <td>501</td>\n",
       "      <td>501</td>\n",
       "    </tr>\n",
       "    <tr>\n",
       "      <th>5.0</th>\n",
       "      <td>501</td>\n",
       "      <td>501</td>\n",
       "      <td>501</td>\n",
       "      <td>501</td>\n",
       "    </tr>\n",
       "  </tbody>\n",
       "</table>\n",
       "</div>"
      ],
      "text/plain": [
       "            cpu_request  memory_request  priority  scheduling_class\n",
       "event_type                                                         \n",
       "3.0                 501             501       501               501\n",
       "4.0                 501             501       501               501\n",
       "5.0                 501             501       501               501"
      ]
     },
     "execution_count": 8,
     "metadata": {},
     "output_type": "execute_result"
    }
   ],
   "source": [
    "tf.groupby(tf.event_type).count()"
   ]
  },
  {
   "cell_type": "code",
   "execution_count": 9,
   "metadata": {
    "collapsed": false
   },
   "outputs": [],
   "source": [
    "event_types = {\n",
    "    3: 'FAIL',\n",
    "    4: 'FINISH',\n",
    "    5: 'KILL',\n",
    "}\n",
    "# tf.event_type = tf.event_type.apply(lambda x: event_types[int(x)] if x else x)\n",
    "# tf.head()"
   ]
  },
  {
   "cell_type": "markdown",
   "metadata": {},
   "source": [
    "### Classifier"
   ]
  },
  {
   "cell_type": "code",
   "execution_count": 8,
   "metadata": {
    "collapsed": false
   },
   "outputs": [],
   "source": [
    "%load_ext gvmagic"
   ]
  },
  {
   "cell_type": "code",
   "execution_count": 9,
   "metadata": {
    "collapsed": false
   },
   "outputs": [
    {
     "data": {
      "text/plain": [
       "DecisionTreeClassifier(class_weight=None, criterion='gini', max_depth=None,\n",
       "            max_features=None, max_leaf_nodes=None, min_samples_leaf=1,\n",
       "            min_samples_split=20, min_weight_fraction_leaf=0.0,\n",
       "            presort=False, random_state=None, splitter='best')"
      ]
     },
     "execution_count": 9,
     "metadata": {},
     "output_type": "execute_result"
    }
   ],
   "source": [
    "resource_features = ['cpu_request', 'memory_request']\n",
    "prio_features = ['priority', 'scheduling_class']\n",
    "classifier = ['event_type']\n",
    "\n",
    "# resource classifier\n",
    "resource_clf = DecisionTreeClassifier(min_samples_split=20)\n",
    "resource_clf.fit(tf[resource_features], tf[classifier])\n",
    "\n",
    "# priority classifier\n",
    "prio_clf = DecisionTreeClassifier(min_samples_split=20)\n",
    "prio_clf.fit(tf[prio_features], tf[classifier])"
   ]
  },
  {
   "cell_type": "markdown",
   "metadata": {},
   "source": [
    "### Resource decision tree"
   ]
  },
  {
   "cell_type": "code",
   "execution_count": 10,
   "metadata": {
    "collapsed": true
   },
   "outputs": [
    {
     "data": {
      "image/svg+xml": [
       "<?xml version=\"1.0\" encoding=\"UTF-8\" standalone=\"no\"?>\r\n",
       "<!DOCTYPE svg PUBLIC \"-//W3C//DTD SVG 1.1//EN\"\r\n",
       " \"http://www.w3.org/Graphics/SVG/1.1/DTD/svg11.dtd\">\r\n",
       "<!-- Generated by graphviz version 2.38.0 (20140413.2041)\r\n",
       " -->\r\n",
       "<!-- Title: Tree Pages: 1 -->\r\n",
       "<svg width=\"680pt\" height=\"854pt\"\r\n",
       " viewBox=\"0.00 0.00 680.00 854.00\" xmlns=\"http://www.w3.org/2000/svg\" xmlns:xlink=\"http://www.w3.org/1999/xlink\">\r\n",
       "<g id=\"graph0\" class=\"graph\" transform=\"scale(1 1) rotate(0) translate(4 850)\">\r\n",
       "<title>Tree</title>\r\n",
       "<polygon fill=\"white\" stroke=\"none\" points=\"-4,4 -4,-850 676,-850 676,4 -4,4\"/>\r\n",
       "<!-- 0 -->\r\n",
       "<g id=\"node1\" class=\"node\"><title>0</title>\r\n",
       "<path fill=\"#39e581\" fill-opacity=\"0.423529\" stroke=\"gray\" stroke-width=\"0.5\" d=\"M105,-449.5C105,-449.5 12,-449.5 12,-449.5 6,-449.5 7.10543e-015,-443.5 7.10543e-015,-437.5 7.10543e-015,-437.5 7.10543e-015,-408.5 7.10543e-015,-408.5 7.10543e-015,-402.5 6,-396.5 12,-396.5 12,-396.5 105,-396.5 105,-396.5 111,-396.5 117,-402.5 117,-408.5 117,-408.5 117,-437.5 117,-437.5 117,-443.5 111,-449.5 105,-449.5\"/>\r\n",
       "<text text-anchor=\"middle\" x=\"58.5\" y=\"-439.1\" font-family=\"Tahoma\" font-size=\"8.00\">cpu_request &lt;= 0.0224</text>\r\n",
       "<text text-anchor=\"middle\" x=\"58.5\" y=\"-430.1\" font-family=\"Tahoma\" font-size=\"8.00\">gini = 0.4831</text>\r\n",
       "<text text-anchor=\"middle\" x=\"58.5\" y=\"-421.1\" font-family=\"Tahoma\" font-size=\"8.00\">samples = 23222</text>\r\n",
       "<text text-anchor=\"middle\" x=\"58.5\" y=\"-412.1\" font-family=\"Tahoma\" font-size=\"8.00\">value = [501, 14550, 8171]</text>\r\n",
       "<text text-anchor=\"middle\" x=\"58.5\" y=\"-403.1\" font-family=\"Tahoma\" font-size=\"8.00\">class = FINISH</text>\r\n",
       "</g>\r\n",
       "<!-- 1 -->\r\n",
       "<g id=\"node2\" class=\"node\"><title>1</title>\r\n",
       "<path fill=\"#8139e5\" fill-opacity=\"0.411765\" stroke=\"gray\" stroke-width=\"0.5\" d=\"M260,-556.5C260,-556.5 165,-556.5 165,-556.5 159,-556.5 153,-550.5 153,-544.5 153,-544.5 153,-515.5 153,-515.5 153,-509.5 159,-503.5 165,-503.5 165,-503.5 260,-503.5 260,-503.5 266,-503.5 272,-509.5 272,-515.5 272,-515.5 272,-544.5 272,-544.5 272,-550.5 266,-556.5 260,-556.5\"/>\r\n",
       "<text text-anchor=\"middle\" x=\"212.5\" y=\"-546.1\" font-family=\"Tahoma\" font-size=\"8.00\">memory_request &lt;= 0.0151</text>\r\n",
       "<text text-anchor=\"middle\" x=\"212.5\" y=\"-537.1\" font-family=\"Tahoma\" font-size=\"8.00\">gini = 0.4768</text>\r\n",
       "<text text-anchor=\"middle\" x=\"212.5\" y=\"-528.1\" font-family=\"Tahoma\" font-size=\"8.00\">samples = 10345</text>\r\n",
       "<text text-anchor=\"middle\" x=\"212.5\" y=\"-519.1\" font-family=\"Tahoma\" font-size=\"8.00\">value = [117, 3758, 6470]</text>\r\n",
       "<text text-anchor=\"middle\" x=\"212.5\" y=\"-510.1\" font-family=\"Tahoma\" font-size=\"8.00\">class = KILL</text>\r\n",
       "</g>\r\n",
       "<!-- 0&#45;&gt;1 -->\r\n",
       "<g id=\"edge1\" class=\"edge\"><title>0&#45;&gt;1</title>\r\n",
       "<path fill=\"none\" stroke=\"gray\" stroke-width=\"0.5\" d=\"M97.4639,-449.725C118.035,-464.206 143.616,-482.213 165.333,-497.501\"/>\r\n",
       "<polygon fill=\"gray\" stroke=\"gray\" stroke-width=\"0.5\" points=\"163.565,-500.537 173.757,-503.431 167.594,-494.813 163.565,-500.537\"/>\r\n",
       "<text text-anchor=\"middle\" x=\"149.126\" y=\"-505.81\" font-family=\"Tahoma\" font-size=\"8.00\">True</text>\r\n",
       "</g>\r\n",
       "<!-- 148 -->\r\n",
       "<g id=\"node17\" class=\"node\"><title>148</title>\r\n",
       "<path fill=\"#39e581\" fill-opacity=\"0.811765\" stroke=\"gray\" stroke-width=\"0.5\" d=\"M259,-342.5C259,-342.5 166,-342.5 166,-342.5 160,-342.5 154,-336.5 154,-330.5 154,-330.5 154,-301.5 154,-301.5 154,-295.5 160,-289.5 166,-289.5 166,-289.5 259,-289.5 259,-289.5 265,-289.5 271,-295.5 271,-301.5 271,-301.5 271,-330.5 271,-330.5 271,-336.5 265,-342.5 259,-342.5\"/>\r\n",
       "<text text-anchor=\"middle\" x=\"212.5\" y=\"-332.1\" font-family=\"Tahoma\" font-size=\"8.00\">cpu_request &lt;= 0.0293</text>\r\n",
       "<text text-anchor=\"middle\" x=\"212.5\" y=\"-323.1\" font-family=\"Tahoma\" font-size=\"8.00\">gini = 0.2793</text>\r\n",
       "<text text-anchor=\"middle\" x=\"212.5\" y=\"-314.1\" font-family=\"Tahoma\" font-size=\"8.00\">samples = 12877</text>\r\n",
       "<text text-anchor=\"middle\" x=\"212.5\" y=\"-305.1\" font-family=\"Tahoma\" font-size=\"8.00\">value = [384, 10792, 1701]</text>\r\n",
       "<text text-anchor=\"middle\" x=\"212.5\" y=\"-296.1\" font-family=\"Tahoma\" font-size=\"8.00\">class = FINISH</text>\r\n",
       "</g>\r\n",
       "<!-- 0&#45;&gt;148 -->\r\n",
       "<g id=\"edge16\" class=\"edge\"><title>0&#45;&gt;148</title>\r\n",
       "<path fill=\"none\" stroke=\"gray\" stroke-width=\"0.5\" d=\"M97.4639,-396.275C118.035,-381.794 143.616,-363.787 165.333,-348.499\"/>\r\n",
       "<polygon fill=\"gray\" stroke=\"gray\" stroke-width=\"0.5\" points=\"167.594,-351.187 173.757,-342.569 163.565,-345.463 167.594,-351.187\"/>\r\n",
       "<text text-anchor=\"middle\" x=\"149.126\" y=\"-336.39\" font-family=\"Tahoma\" font-size=\"8.00\">False</text>\r\n",
       "</g>\r\n",
       "<!-- 2 -->\r\n",
       "<g id=\"node3\" class=\"node\"><title>2</title>\r\n",
       "<path fill=\"#39e581\" fill-opacity=\"0.658824\" stroke=\"gray\" stroke-width=\"0.5\" d=\"M409.5,-710.5C409.5,-710.5 325.5,-710.5 325.5,-710.5 319.5,-710.5 313.5,-704.5 313.5,-698.5 313.5,-698.5 313.5,-669.5 313.5,-669.5 313.5,-663.5 319.5,-657.5 325.5,-657.5 325.5,-657.5 409.5,-657.5 409.5,-657.5 415.5,-657.5 421.5,-663.5 421.5,-669.5 421.5,-669.5 421.5,-698.5 421.5,-698.5 421.5,-704.5 415.5,-710.5 409.5,-710.5\"/>\r\n",
       "<text text-anchor=\"middle\" x=\"367.5\" y=\"-700.1\" font-family=\"Tahoma\" font-size=\"8.00\">cpu_request &lt;= 0.0116</text>\r\n",
       "<text text-anchor=\"middle\" x=\"367.5\" y=\"-691.1\" font-family=\"Tahoma\" font-size=\"8.00\">gini = 0.3933</text>\r\n",
       "<text text-anchor=\"middle\" x=\"367.5\" y=\"-682.1\" font-family=\"Tahoma\" font-size=\"8.00\">samples = 4906</text>\r\n",
       "<text text-anchor=\"middle\" x=\"367.5\" y=\"-673.1\" font-family=\"Tahoma\" font-size=\"8.00\">value = [92, 3633, 1181]</text>\r\n",
       "<text text-anchor=\"middle\" x=\"367.5\" y=\"-664.1\" font-family=\"Tahoma\" font-size=\"8.00\">class = FINISH</text>\r\n",
       "</g>\r\n",
       "<!-- 1&#45;&gt;2 -->\r\n",
       "<g id=\"edge2\" class=\"edge\"><title>1&#45;&gt;2</title>\r\n",
       "<path fill=\"none\" stroke=\"gray\" stroke-width=\"0.5\" d=\"M240.151,-556.825C265.929,-582.772 305.084,-622.182 332.967,-650.248\"/>\r\n",
       "<polygon fill=\"gray\" stroke=\"gray\" stroke-width=\"0.5\" points=\"330.624,-652.855 340.155,-657.483 335.59,-647.922 330.624,-652.855\"/>\r\n",
       "</g>\r\n",
       "<!-- 123 -->\r\n",
       "<g id=\"node10\" class=\"node\"><title>123</title>\r\n",
       "<path fill=\"#8139e5\" fill-opacity=\"0.972549\" stroke=\"gray\" stroke-width=\"0.5\" d=\"M415,-556.5C415,-556.5 320,-556.5 320,-556.5 314,-556.5 308,-550.5 308,-544.5 308,-544.5 308,-515.5 308,-515.5 308,-509.5 314,-503.5 320,-503.5 320,-503.5 415,-503.5 415,-503.5 421,-503.5 427,-509.5 427,-515.5 427,-515.5 427,-544.5 427,-544.5 427,-550.5 421,-556.5 415,-556.5\"/>\r\n",
       "<text text-anchor=\"middle\" x=\"367.5\" y=\"-546.1\" font-family=\"Tahoma\" font-size=\"8.00\">memory_request &lt;= 0.0157</text>\r\n",
       "<text text-anchor=\"middle\" x=\"367.5\" y=\"-537.1\" font-family=\"Tahoma\" font-size=\"8.00\">gini = 0.0538</text>\r\n",
       "<text text-anchor=\"middle\" x=\"367.5\" y=\"-528.1\" font-family=\"Tahoma\" font-size=\"8.00\">samples = 5439</text>\r\n",
       "<text text-anchor=\"middle\" x=\"367.5\" y=\"-519.1\" font-family=\"Tahoma\" font-size=\"8.00\">value = [25, 125, 5289]</text>\r\n",
       "<text text-anchor=\"middle\" x=\"367.5\" y=\"-510.1\" font-family=\"Tahoma\" font-size=\"8.00\">class = KILL</text>\r\n",
       "</g>\r\n",
       "<!-- 1&#45;&gt;123 -->\r\n",
       "<g id=\"edge9\" class=\"edge\"><title>1&#45;&gt;123</title>\r\n",
       "<path fill=\"none\" stroke=\"gray\" stroke-width=\"0.5\" d=\"M272.216,-530C280.544,-530 289.169,-530 297.667,-530\"/>\r\n",
       "<polygon fill=\"gray\" stroke=\"gray\" stroke-width=\"0.5\" points=\"297.941,-533.5 307.941,-530 297.941,-526.5 297.941,-533.5\"/>\r\n",
       "</g>\r\n",
       "<!-- 3 -->\r\n",
       "<g id=\"node4\" class=\"node\"><title>3</title>\r\n",
       "<path fill=\"#39e581\" fill-opacity=\"0.764706\" stroke=\"gray\" stroke-width=\"0.5\" d=\"M570,-800.5C570,-800.5 475,-800.5 475,-800.5 469,-800.5 463,-794.5 463,-788.5 463,-788.5 463,-759.5 463,-759.5 463,-753.5 469,-747.5 475,-747.5 475,-747.5 570,-747.5 570,-747.5 576,-747.5 582,-753.5 582,-759.5 582,-759.5 582,-788.5 582,-788.5 582,-794.5 576,-800.5 570,-800.5\"/>\r\n",
       "<text text-anchor=\"middle\" x=\"522.5\" y=\"-790.1\" font-family=\"Tahoma\" font-size=\"8.00\">memory_request &lt;= 0.0109</text>\r\n",
       "<text text-anchor=\"middle\" x=\"522.5\" y=\"-781.1\" font-family=\"Tahoma\" font-size=\"8.00\">gini = 0.3206</text>\r\n",
       "<text text-anchor=\"middle\" x=\"522.5\" y=\"-772.1\" font-family=\"Tahoma\" font-size=\"8.00\">samples = 3688</text>\r\n",
       "<text text-anchor=\"middle\" x=\"522.5\" y=\"-763.1\" font-family=\"Tahoma\" font-size=\"8.00\">value = [74, 2970, 644]</text>\r\n",
       "<text text-anchor=\"middle\" x=\"522.5\" y=\"-754.1\" font-family=\"Tahoma\" font-size=\"8.00\">class = FINISH</text>\r\n",
       "</g>\r\n",
       "<!-- 2&#45;&gt;3 -->\r\n",
       "<g id=\"edge3\" class=\"edge\"><title>2&#45;&gt;3</title>\r\n",
       "<path fill=\"none\" stroke=\"gray\" stroke-width=\"0.5\" d=\"M413.578,-710.516C430.392,-720.407 449.657,-731.739 467.213,-742.066\"/>\r\n",
       "<polygon fill=\"gray\" stroke=\"gray\" stroke-width=\"0.5\" points=\"465.822,-745.309 476.216,-747.362 469.371,-739.275 465.822,-745.309\"/>\r\n",
       "</g>\r\n",
       "<!-- 84 -->\r\n",
       "<g id=\"node7\" class=\"node\"><title>84</title>\r\n",
       "<path fill=\"#39e581\" fill-opacity=\"0.184314\" stroke=\"gray\" stroke-width=\"0.5\" d=\"M570,-710.5C570,-710.5 475,-710.5 475,-710.5 469,-710.5 463,-704.5 463,-698.5 463,-698.5 463,-669.5 463,-669.5 463,-663.5 469,-657.5 475,-657.5 475,-657.5 570,-657.5 570,-657.5 576,-657.5 582,-663.5 582,-669.5 582,-669.5 582,-698.5 582,-698.5 582,-704.5 576,-710.5 570,-710.5\"/>\r\n",
       "<text text-anchor=\"middle\" x=\"522.5\" y=\"-700.1\" font-family=\"Tahoma\" font-size=\"8.00\">memory_request &lt;= 0.0071</text>\r\n",
       "<text text-anchor=\"middle\" x=\"522.5\" y=\"-691.1\" font-family=\"Tahoma\" font-size=\"8.00\">gini = 0.5091</text>\r\n",
       "<text text-anchor=\"middle\" x=\"522.5\" y=\"-682.1\" font-family=\"Tahoma\" font-size=\"8.00\">samples = 1218</text>\r\n",
       "<text text-anchor=\"middle\" x=\"522.5\" y=\"-673.1\" font-family=\"Tahoma\" font-size=\"8.00\">value = [18, 663, 537]</text>\r\n",
       "<text text-anchor=\"middle\" x=\"522.5\" y=\"-664.1\" font-family=\"Tahoma\" font-size=\"8.00\">class = FINISH</text>\r\n",
       "</g>\r\n",
       "<!-- 2&#45;&gt;84 -->\r\n",
       "<g id=\"edge6\" class=\"edge\"><title>2&#45;&gt;84</title>\r\n",
       "<path fill=\"none\" stroke=\"gray\" stroke-width=\"0.5\" d=\"M421.583,-684C431.551,-684 442.107,-684 452.478,-684\"/>\r\n",
       "<polygon fill=\"gray\" stroke=\"gray\" stroke-width=\"0.5\" points=\"452.758,-687.5 462.758,-684 452.758,-680.5 452.758,-687.5\"/>\r\n",
       "</g>\r\n",
       "<!-- 4 -->\r\n",
       "<g id=\"node5\" class=\"node\"><title>4</title>\r\n",
       "<path fill=\"#c0c0c0\" stroke=\"gray\" stroke-width=\"0.5\" d=\"M660,-846C660,-846 630,-846 630,-846 624,-846 618,-840 618,-834 618,-834 618,-822 618,-822 618,-816 624,-810 630,-810 630,-810 660,-810 660,-810 666,-810 672,-816 672,-822 672,-822 672,-834 672,-834 672,-840 666,-846 660,-846\"/>\r\n",
       "<text text-anchor=\"middle\" x=\"645\" y=\"-826.1\" font-family=\"Tahoma\" font-size=\"8.00\">(...)</text>\r\n",
       "</g>\r\n",
       "<!-- 3&#45;&gt;4 -->\r\n",
       "<g id=\"edge4\" class=\"edge\"><title>3&#45;&gt;4</title>\r\n",
       "<path fill=\"none\" stroke=\"gray\" stroke-width=\"0.5\" d=\"M582.338,-800.367C591.27,-804.37 600.242,-808.391 608.471,-812.078\"/>\r\n",
       "<polygon fill=\"gray\" stroke=\"gray\" stroke-width=\"0.5\" points=\"607.185,-815.337 617.742,-816.233 610.048,-808.949 607.185,-815.337\"/>\r\n",
       "</g>\r\n",
       "<!-- 71 -->\r\n",
       "<g id=\"node6\" class=\"node\"><title>71</title>\r\n",
       "<path fill=\"#c0c0c0\" stroke=\"gray\" stroke-width=\"0.5\" d=\"M660,-792C660,-792 630,-792 630,-792 624,-792 618,-786 618,-780 618,-780 618,-768 618,-768 618,-762 624,-756 630,-756 630,-756 660,-756 660,-756 666,-756 672,-762 672,-768 672,-768 672,-780 672,-780 672,-786 666,-792 660,-792\"/>\r\n",
       "<text text-anchor=\"middle\" x=\"645\" y=\"-772.1\" font-family=\"Tahoma\" font-size=\"8.00\">(...)</text>\r\n",
       "</g>\r\n",
       "<!-- 3&#45;&gt;71 -->\r\n",
       "<g id=\"edge5\" class=\"edge\"><title>3&#45;&gt;71</title>\r\n",
       "<path fill=\"none\" stroke=\"gray\" stroke-width=\"0.5\" d=\"M582.338,-774C590.978,-774 599.657,-774 607.664,-774\"/>\r\n",
       "<polygon fill=\"gray\" stroke=\"gray\" stroke-width=\"0.5\" points=\"607.742,-777.5 617.742,-774 607.742,-770.5 607.742,-777.5\"/>\r\n",
       "</g>\r\n",
       "<!-- 85 -->\r\n",
       "<g id=\"node8\" class=\"node\"><title>85</title>\r\n",
       "<path fill=\"#c0c0c0\" stroke=\"gray\" stroke-width=\"0.5\" d=\"M660,-738C660,-738 630,-738 630,-738 624,-738 618,-732 618,-726 618,-726 618,-714 618,-714 618,-708 624,-702 630,-702 630,-702 660,-702 660,-702 666,-702 672,-708 672,-714 672,-714 672,-726 672,-726 672,-732 666,-738 660,-738\"/>\r\n",
       "<text text-anchor=\"middle\" x=\"645\" y=\"-718.1\" font-family=\"Tahoma\" font-size=\"8.00\">(...)</text>\r\n",
       "</g>\r\n",
       "<!-- 84&#45;&gt;85 -->\r\n",
       "<g id=\"edge7\" class=\"edge\"><title>84&#45;&gt;85</title>\r\n",
       "<path fill=\"none\" stroke=\"gray\" stroke-width=\"0.5\" d=\"M582.338,-701.578C591.075,-704.188 599.852,-706.811 607.933,-709.225\"/>\r\n",
       "<polygon fill=\"gray\" stroke=\"gray\" stroke-width=\"0.5\" points=\"607.158,-712.646 617.742,-712.155 609.162,-705.939 607.158,-712.646\"/>\r\n",
       "</g>\r\n",
       "<!-- 114 -->\r\n",
       "<g id=\"node9\" class=\"node\"><title>114</title>\r\n",
       "<path fill=\"#c0c0c0\" stroke=\"gray\" stroke-width=\"0.5\" d=\"M660,-684C660,-684 630,-684 630,-684 624,-684 618,-678 618,-672 618,-672 618,-660 618,-660 618,-654 624,-648 630,-648 630,-648 660,-648 660,-648 666,-648 672,-654 672,-660 672,-660 672,-672 672,-672 672,-678 666,-684 660,-684\"/>\r\n",
       "<text text-anchor=\"middle\" x=\"645\" y=\"-664.1\" font-family=\"Tahoma\" font-size=\"8.00\">(...)</text>\r\n",
       "</g>\r\n",
       "<!-- 84&#45;&gt;114 -->\r\n",
       "<g id=\"edge8\" class=\"edge\"><title>84&#45;&gt;114</title>\r\n",
       "<path fill=\"none\" stroke=\"gray\" stroke-width=\"0.5\" d=\"M582.338,-675.211C590.978,-673.92 599.657,-672.624 607.664,-671.428\"/>\r\n",
       "<polygon fill=\"gray\" stroke=\"gray\" stroke-width=\"0.5\" points=\"608.369,-674.861 617.742,-669.922 607.334,-667.938 608.369,-674.861\"/>\r\n",
       "</g>\r\n",
       "<!-- 124 -->\r\n",
       "<g id=\"node11\" class=\"node\"><title>124</title>\r\n",
       "<path fill=\"#8139e5\" stroke=\"gray\" stroke-width=\"0.5\" d=\"M562.5,-592.5C562.5,-592.5 482.5,-592.5 482.5,-592.5 476.5,-592.5 470.5,-586.5 470.5,-580.5 470.5,-580.5 470.5,-551.5 470.5,-551.5 470.5,-545.5 476.5,-539.5 482.5,-539.5 482.5,-539.5 562.5,-539.5 562.5,-539.5 568.5,-539.5 574.5,-545.5 574.5,-551.5 574.5,-551.5 574.5,-580.5 574.5,-580.5 574.5,-586.5 568.5,-592.5 562.5,-592.5\"/>\r\n",
       "<text text-anchor=\"middle\" x=\"522.5\" y=\"-582.1\" font-family=\"Tahoma\" font-size=\"8.00\">cpu_request &lt;= 0.0125</text>\r\n",
       "<text text-anchor=\"middle\" x=\"522.5\" y=\"-573.1\" font-family=\"Tahoma\" font-size=\"8.00\">gini = 0.002</text>\r\n",
       "<text text-anchor=\"middle\" x=\"522.5\" y=\"-564.1\" font-family=\"Tahoma\" font-size=\"8.00\">samples = 5102</text>\r\n",
       "<text text-anchor=\"middle\" x=\"522.5\" y=\"-555.1\" font-family=\"Tahoma\" font-size=\"8.00\">value = [0, 5, 5097]</text>\r\n",
       "<text text-anchor=\"middle\" x=\"522.5\" y=\"-546.1\" font-family=\"Tahoma\" font-size=\"8.00\">class = KILL</text>\r\n",
       "</g>\r\n",
       "<!-- 123&#45;&gt;124 -->\r\n",
       "<g id=\"edge10\" class=\"edge\"><title>123&#45;&gt;124</title>\r\n",
       "<path fill=\"none\" stroke=\"gray\" stroke-width=\"0.5\" d=\"M427.216,-543.816C438.056,-546.366 449.399,-549.035 460.31,-551.602\"/>\r\n",
       "<polygon fill=\"gray\" stroke=\"gray\" stroke-width=\"0.5\" points=\"459.645,-555.041 470.181,-553.925 461.248,-548.227 459.645,-555.041\"/>\r\n",
       "</g>\r\n",
       "<!-- 127 -->\r\n",
       "<g id=\"node14\" class=\"node\"><title>127</title>\r\n",
       "<path fill=\"#8139e5\" fill-opacity=\"0.333333\" stroke=\"gray\" stroke-width=\"0.5\" d=\"M570,-521.5C570,-521.5 475,-521.5 475,-521.5 469,-521.5 463,-515.5 463,-509.5 463,-509.5 463,-480.5 463,-480.5 463,-474.5 469,-468.5 475,-468.5 475,-468.5 570,-468.5 570,-468.5 576,-468.5 582,-474.5 582,-480.5 582,-480.5 582,-509.5 582,-509.5 582,-515.5 576,-521.5 570,-521.5\"/>\r\n",
       "<text text-anchor=\"middle\" x=\"522.5\" y=\"-511.1\" font-family=\"Tahoma\" font-size=\"8.00\">memory_request &lt;= 0.0173</text>\r\n",
       "<text text-anchor=\"middle\" x=\"522.5\" y=\"-502.1\" font-family=\"Tahoma\" font-size=\"8.00\">gini = 0.5431</text>\r\n",
       "<text text-anchor=\"middle\" x=\"522.5\" y=\"-493.1\" font-family=\"Tahoma\" font-size=\"8.00\">samples = 337</text>\r\n",
       "<text text-anchor=\"middle\" x=\"522.5\" y=\"-484.1\" font-family=\"Tahoma\" font-size=\"8.00\">value = [25, 120, 192]</text>\r\n",
       "<text text-anchor=\"middle\" x=\"522.5\" y=\"-475.1\" font-family=\"Tahoma\" font-size=\"8.00\">class = KILL</text>\r\n",
       "</g>\r\n",
       "<!-- 123&#45;&gt;127 -->\r\n",
       "<g id=\"edge13\" class=\"edge\"><title>123&#45;&gt;127</title>\r\n",
       "<path fill=\"none\" stroke=\"gray\" stroke-width=\"0.5\" d=\"M427.216,-516.568C435.635,-514.642 444.359,-512.647 452.947,-510.682\"/>\r\n",
       "<polygon fill=\"gray\" stroke=\"gray\" stroke-width=\"0.5\" points=\"453.973,-514.038 462.941,-508.396 452.412,-507.214 453.973,-514.038\"/>\r\n",
       "</g>\r\n",
       "<!-- 125 -->\r\n",
       "<g id=\"node12\" class=\"node\"><title>125</title>\r\n",
       "<path fill=\"#c0c0c0\" stroke=\"gray\" stroke-width=\"0.5\" d=\"M660,-630C660,-630 630,-630 630,-630 624,-630 618,-624 618,-618 618,-618 618,-606 618,-606 618,-600 624,-594 630,-594 630,-594 660,-594 660,-594 666,-594 672,-600 672,-606 672,-606 672,-618 672,-618 672,-624 666,-630 660,-630\"/>\r\n",
       "<text text-anchor=\"middle\" x=\"645\" y=\"-610.1\" font-family=\"Tahoma\" font-size=\"8.00\">(...)</text>\r\n",
       "</g>\r\n",
       "<!-- 124&#45;&gt;125 -->\r\n",
       "<g id=\"edge11\" class=\"edge\"><title>124&#45;&gt;125</title>\r\n",
       "<path fill=\"none\" stroke=\"gray\" stroke-width=\"0.5\" d=\"M574.603,-585.508C585.997,-589.858 597.837,-594.378 608.443,-598.426\"/>\r\n",
       "<polygon fill=\"gray\" stroke=\"gray\" stroke-width=\"0.5\" points=\"607.198,-601.697 617.788,-601.994 609.694,-595.158 607.198,-601.697\"/>\r\n",
       "</g>\r\n",
       "<!-- 126 -->\r\n",
       "<g id=\"node13\" class=\"node\"><title>126</title>\r\n",
       "<path fill=\"#c0c0c0\" stroke=\"gray\" stroke-width=\"0.5\" d=\"M660,-576C660,-576 630,-576 630,-576 624,-576 618,-570 618,-564 618,-564 618,-552 618,-552 618,-546 624,-540 630,-540 630,-540 660,-540 660,-540 666,-540 672,-546 672,-552 672,-552 672,-564 672,-564 672,-570 666,-576 660,-576\"/>\r\n",
       "<text text-anchor=\"middle\" x=\"645\" y=\"-556.1\" font-family=\"Tahoma\" font-size=\"8.00\">(...)</text>\r\n",
       "</g>\r\n",
       "<!-- 124&#45;&gt;126 -->\r\n",
       "<g id=\"edge12\" class=\"edge\"><title>124&#45;&gt;126</title>\r\n",
       "<path fill=\"none\" stroke=\"gray\" stroke-width=\"0.5\" d=\"M574.603,-562.607C585.764,-561.866 597.354,-561.097 607.792,-560.404\"/>\r\n",
       "<polygon fill=\"gray\" stroke=\"gray\" stroke-width=\"0.5\" points=\"608.042,-563.895 617.788,-559.74 607.578,-556.91 608.042,-563.895\"/>\r\n",
       "</g>\r\n",
       "<!-- 128 -->\r\n",
       "<g id=\"node15\" class=\"node\"><title>128</title>\r\n",
       "<path fill=\"#c0c0c0\" stroke=\"gray\" stroke-width=\"0.5\" d=\"M660,-522C660,-522 630,-522 630,-522 624,-522 618,-516 618,-510 618,-510 618,-498 618,-498 618,-492 624,-486 630,-486 630,-486 660,-486 660,-486 666,-486 672,-492 672,-498 672,-498 672,-510 672,-510 672,-516 666,-522 660,-522\"/>\r\n",
       "<text text-anchor=\"middle\" x=\"645\" y=\"-502.1\" font-family=\"Tahoma\" font-size=\"8.00\">(...)</text>\r\n",
       "</g>\r\n",
       "<!-- 127&#45;&gt;128 -->\r\n",
       "<g id=\"edge14\" class=\"edge\"><title>127&#45;&gt;128</title>\r\n",
       "<path fill=\"none\" stroke=\"gray\" stroke-width=\"0.5\" d=\"M582.338,-499.395C590.978,-500.04 599.657,-500.688 607.664,-501.286\"/>\r\n",
       "<polygon fill=\"gray\" stroke=\"gray\" stroke-width=\"0.5\" points=\"607.509,-504.784 617.742,-502.039 608.03,-497.804 607.509,-504.784\"/>\r\n",
       "</g>\r\n",
       "<!-- 135 -->\r\n",
       "<g id=\"node16\" class=\"node\"><title>135</title>\r\n",
       "<path fill=\"#c0c0c0\" stroke=\"gray\" stroke-width=\"0.5\" d=\"M660,-468C660,-468 630,-468 630,-468 624,-468 618,-462 618,-456 618,-456 618,-444 618,-444 618,-438 624,-432 630,-432 630,-432 660,-432 660,-432 666,-432 672,-438 672,-444 672,-444 672,-456 672,-456 672,-462 666,-468 660,-468\"/>\r\n",
       "<text text-anchor=\"middle\" x=\"645\" y=\"-448.1\" font-family=\"Tahoma\" font-size=\"8.00\">(...)</text>\r\n",
       "</g>\r\n",
       "<!-- 127&#45;&gt;135 -->\r\n",
       "<g id=\"edge15\" class=\"edge\"><title>127&#45;&gt;135</title>\r\n",
       "<path fill=\"none\" stroke=\"gray\" stroke-width=\"0.5\" d=\"M582.338,-473.027C591.172,-469.728 600.047,-466.414 608.203,-463.368\"/>\r\n",
       "<polygon fill=\"gray\" stroke=\"gray\" stroke-width=\"0.5\" points=\"609.598,-466.583 617.742,-459.806 607.149,-460.026 609.598,-466.583\"/>\r\n",
       "</g>\r\n",
       "<!-- 149 -->\r\n",
       "<g id=\"node18\" class=\"node\"><title>149</title>\r\n",
       "<path fill=\"#39e581\" fill-opacity=\"0.941176\" stroke=\"gray\" stroke-width=\"0.5\" d=\"M413,-342.5C413,-342.5 322,-342.5 322,-342.5 316,-342.5 310,-336.5 310,-330.5 310,-330.5 310,-301.5 310,-301.5 310,-295.5 316,-289.5 322,-289.5 322,-289.5 413,-289.5 413,-289.5 419,-289.5 425,-295.5 425,-301.5 425,-301.5 425,-330.5 425,-330.5 425,-336.5 419,-342.5 413,-342.5\"/>\r\n",
       "<text text-anchor=\"middle\" x=\"367.5\" y=\"-332.1\" font-family=\"Tahoma\" font-size=\"8.00\">memory_request &lt;= 0.047</text>\r\n",
       "<text text-anchor=\"middle\" x=\"367.5\" y=\"-323.1\" font-family=\"Tahoma\" font-size=\"8.00\">gini = 0.1077</text>\r\n",
       "<text text-anchor=\"middle\" x=\"367.5\" y=\"-314.1\" font-family=\"Tahoma\" font-size=\"8.00\">samples = 4937</text>\r\n",
       "<text text-anchor=\"middle\" x=\"367.5\" y=\"-305.1\" font-family=\"Tahoma\" font-size=\"8.00\">value = [58, 4658, 221]</text>\r\n",
       "<text text-anchor=\"middle\" x=\"367.5\" y=\"-296.1\" font-family=\"Tahoma\" font-size=\"8.00\">class = FINISH</text>\r\n",
       "</g>\r\n",
       "<!-- 148&#45;&gt;149 -->\r\n",
       "<g id=\"edge17\" class=\"edge\"><title>148&#45;&gt;149</title>\r\n",
       "<path fill=\"none\" stroke=\"gray\" stroke-width=\"0.5\" d=\"M271.343,-316C280.602,-316 290.25,-316 299.698,-316\"/>\r\n",
       "<polygon fill=\"gray\" stroke=\"gray\" stroke-width=\"0.5\" points=\"299.843,-319.5 309.843,-316 299.843,-312.5 299.843,-319.5\"/>\r\n",
       "</g>\r\n",
       "<!-- 172 -->\r\n",
       "<g id=\"node25\" class=\"node\"><title>172</title>\r\n",
       "<path fill=\"#39e581\" fill-opacity=\"0.721569\" stroke=\"gray\" stroke-width=\"0.5\" d=\"M415,-188.5C415,-188.5 320,-188.5 320,-188.5 314,-188.5 308,-182.5 308,-176.5 308,-176.5 308,-147.5 308,-147.5 308,-141.5 314,-135.5 320,-135.5 320,-135.5 415,-135.5 415,-135.5 421,-135.5 427,-141.5 427,-147.5 427,-147.5 427,-176.5 427,-176.5 427,-182.5 421,-188.5 415,-188.5\"/>\r\n",
       "<text text-anchor=\"middle\" x=\"367.5\" y=\"-178.1\" font-family=\"Tahoma\" font-size=\"8.00\">memory_request &lt;= 0.0064</text>\r\n",
       "<text text-anchor=\"middle\" x=\"367.5\" y=\"-169.1\" font-family=\"Tahoma\" font-size=\"8.00\">gini = 0.3667</text>\r\n",
       "<text text-anchor=\"middle\" x=\"367.5\" y=\"-160.1\" font-family=\"Tahoma\" font-size=\"8.00\">samples = 7940</text>\r\n",
       "<text text-anchor=\"middle\" x=\"367.5\" y=\"-151.1\" font-family=\"Tahoma\" font-size=\"8.00\">value = [326, 6134, 1480]</text>\r\n",
       "<text text-anchor=\"middle\" x=\"367.5\" y=\"-142.1\" font-family=\"Tahoma\" font-size=\"8.00\">class = FINISH</text>\r\n",
       "</g>\r\n",
       "<!-- 148&#45;&gt;172 -->\r\n",
       "<g id=\"edge24\" class=\"edge\"><title>148&#45;&gt;172</title>\r\n",
       "<path fill=\"none\" stroke=\"gray\" stroke-width=\"0.5\" d=\"M240.151,-289.175C265.929,-263.228 305.084,-223.818 332.967,-195.752\"/>\r\n",
       "<polygon fill=\"gray\" stroke=\"gray\" stroke-width=\"0.5\" points=\"335.59,-198.078 340.155,-188.517 330.624,-193.145 335.59,-198.078\"/>\r\n",
       "</g>\r\n",
       "<!-- 150 -->\r\n",
       "<g id=\"node19\" class=\"node\"><title>150</title>\r\n",
       "<path fill=\"#39e581\" fill-opacity=\"0.945098\" stroke=\"gray\" stroke-width=\"0.5\" d=\"M562.5,-377.5C562.5,-377.5 482.5,-377.5 482.5,-377.5 476.5,-377.5 470.5,-371.5 470.5,-365.5 470.5,-365.5 470.5,-336.5 470.5,-336.5 470.5,-330.5 476.5,-324.5 482.5,-324.5 482.5,-324.5 562.5,-324.5 562.5,-324.5 568.5,-324.5 574.5,-330.5 574.5,-336.5 574.5,-336.5 574.5,-365.5 574.5,-365.5 574.5,-371.5 568.5,-377.5 562.5,-377.5\"/>\r\n",
       "<text text-anchor=\"middle\" x=\"522.5\" y=\"-367.1\" font-family=\"Tahoma\" font-size=\"8.00\">cpu_request &lt;= 0.0249</text>\r\n",
       "<text text-anchor=\"middle\" x=\"522.5\" y=\"-358.1\" font-family=\"Tahoma\" font-size=\"8.00\">gini = 0.0987</text>\r\n",
       "<text text-anchor=\"middle\" x=\"522.5\" y=\"-349.1\" font-family=\"Tahoma\" font-size=\"8.00\">samples = 4792</text>\r\n",
       "<text text-anchor=\"middle\" x=\"522.5\" y=\"-340.1\" font-family=\"Tahoma\" font-size=\"8.00\">value = [56, 4545, 191]</text>\r\n",
       "<text text-anchor=\"middle\" x=\"522.5\" y=\"-331.1\" font-family=\"Tahoma\" font-size=\"8.00\">class = FINISH</text>\r\n",
       "</g>\r\n",
       "<!-- 149&#45;&gt;150 -->\r\n",
       "<g id=\"edge18\" class=\"edge\"><title>149&#45;&gt;150</title>\r\n",
       "<path fill=\"none\" stroke=\"gray\" stroke-width=\"0.5\" d=\"M425.037,-328.933C436.493,-331.554 448.591,-334.321 460.202,-336.978\"/>\r\n",
       "<polygon fill=\"gray\" stroke=\"gray\" stroke-width=\"0.5\" points=\"459.724,-340.458 470.252,-339.277 461.285,-333.635 459.724,-340.458\"/>\r\n",
       "</g>\r\n",
       "<!-- 169 -->\r\n",
       "<g id=\"node22\" class=\"node\"><title>169</title>\r\n",
       "<path fill=\"#39e581\" fill-opacity=\"0.721569\" stroke=\"gray\" stroke-width=\"0.5\" d=\"M570,-306.5C570,-306.5 475,-306.5 475,-306.5 469,-306.5 463,-300.5 463,-294.5 463,-294.5 463,-265.5 463,-265.5 463,-259.5 469,-253.5 475,-253.5 475,-253.5 570,-253.5 570,-253.5 576,-253.5 582,-259.5 582,-265.5 582,-265.5 582,-294.5 582,-294.5 582,-300.5 576,-306.5 570,-306.5\"/>\r\n",
       "<text text-anchor=\"middle\" x=\"522.5\" y=\"-296.1\" font-family=\"Tahoma\" font-size=\"8.00\">memory_request &lt;= 0.0701</text>\r\n",
       "<text text-anchor=\"middle\" x=\"522.5\" y=\"-287.1\" font-family=\"Tahoma\" font-size=\"8.00\">gini = 0.3497</text>\r\n",
       "<text text-anchor=\"middle\" x=\"522.5\" y=\"-278.1\" font-family=\"Tahoma\" font-size=\"8.00\">samples = 145</text>\r\n",
       "<text text-anchor=\"middle\" x=\"522.5\" y=\"-269.1\" font-family=\"Tahoma\" font-size=\"8.00\">value = [2, 113, 30]</text>\r\n",
       "<text text-anchor=\"middle\" x=\"522.5\" y=\"-260.1\" font-family=\"Tahoma\" font-size=\"8.00\">class = FINISH</text>\r\n",
       "</g>\r\n",
       "<!-- 149&#45;&gt;169 -->\r\n",
       "<g id=\"edge21\" class=\"edge\"><title>149&#45;&gt;169</title>\r\n",
       "<path fill=\"none\" stroke=\"gray\" stroke-width=\"0.5\" d=\"M425.037,-302.697C434.101,-300.564 443.568,-298.337 452.877,-296.147\"/>\r\n",
       "<polygon fill=\"gray\" stroke=\"gray\" stroke-width=\"0.5\" points=\"453.958,-299.488 462.891,-293.79 452.355,-292.674 453.958,-299.488\"/>\r\n",
       "</g>\r\n",
       "<!-- 151 -->\r\n",
       "<g id=\"node20\" class=\"node\"><title>151</title>\r\n",
       "<path fill=\"#c0c0c0\" stroke=\"gray\" stroke-width=\"0.5\" d=\"M660,-414C660,-414 630,-414 630,-414 624,-414 618,-408 618,-402 618,-402 618,-390 618,-390 618,-384 624,-378 630,-378 630,-378 660,-378 660,-378 666,-378 672,-384 672,-390 672,-390 672,-402 672,-402 672,-408 666,-414 660,-414\"/>\r\n",
       "<text text-anchor=\"middle\" x=\"645\" y=\"-394.1\" font-family=\"Tahoma\" font-size=\"8.00\">(...)</text>\r\n",
       "</g>\r\n",
       "<!-- 150&#45;&gt;151 -->\r\n",
       "<g id=\"edge19\" class=\"edge\"><title>150&#45;&gt;151</title>\r\n",
       "<path fill=\"none\" stroke=\"gray\" stroke-width=\"0.5\" d=\"M574.603,-370.084C585.88,-374.296 597.596,-378.671 608.118,-382.6\"/>\r\n",
       "<polygon fill=\"gray\" stroke=\"gray\" stroke-width=\"0.5\" points=\"607.196,-385.992 617.788,-386.211 609.645,-379.434 607.196,-385.992\"/>\r\n",
       "</g>\r\n",
       "<!-- 154 -->\r\n",
       "<g id=\"node21\" class=\"node\"><title>154</title>\r\n",
       "<path fill=\"#c0c0c0\" stroke=\"gray\" stroke-width=\"0.5\" d=\"M660,-360C660,-360 630,-360 630,-360 624,-360 618,-354 618,-348 618,-348 618,-336 618,-336 618,-330 624,-324 630,-324 630,-324 660,-324 660,-324 666,-324 672,-330 672,-336 672,-336 672,-348 672,-348 672,-354 666,-360 660,-360\"/>\r\n",
       "<text text-anchor=\"middle\" x=\"645\" y=\"-340.1\" font-family=\"Tahoma\" font-size=\"8.00\">(...)</text>\r\n",
       "</g>\r\n",
       "<!-- 150&#45;&gt;154 -->\r\n",
       "<g id=\"edge20\" class=\"edge\"><title>150&#45;&gt;154</title>\r\n",
       "<path fill=\"none\" stroke=\"gray\" stroke-width=\"0.5\" d=\"M574.603,-347.183C585.764,-346.35 597.354,-345.484 607.792,-344.704\"/>\r\n",
       "<polygon fill=\"gray\" stroke=\"gray\" stroke-width=\"0.5\" points=\"608.077,-348.193 617.788,-343.958 607.555,-341.212 608.077,-348.193\"/>\r\n",
       "</g>\r\n",
       "<!-- 170 -->\r\n",
       "<g id=\"node23\" class=\"node\"><title>170</title>\r\n",
       "<path fill=\"#c0c0c0\" stroke=\"gray\" stroke-width=\"0.5\" d=\"M660,-306C660,-306 630,-306 630,-306 624,-306 618,-300 618,-294 618,-294 618,-282 618,-282 618,-276 624,-270 630,-270 630,-270 660,-270 660,-270 666,-270 672,-276 672,-282 672,-282 672,-294 672,-294 672,-300 666,-306 660,-306\"/>\r\n",
       "<text text-anchor=\"middle\" x=\"645\" y=\"-286.1\" font-family=\"Tahoma\" font-size=\"8.00\">(...)</text>\r\n",
       "</g>\r\n",
       "<!-- 169&#45;&gt;170 -->\r\n",
       "<g id=\"edge22\" class=\"edge\"><title>169&#45;&gt;170</title>\r\n",
       "<path fill=\"none\" stroke=\"gray\" stroke-width=\"0.5\" d=\"M582.338,-283.906C590.978,-284.48 599.657,-285.056 607.664,-285.588\"/>\r\n",
       "<polygon fill=\"gray\" stroke=\"gray\" stroke-width=\"0.5\" points=\"607.532,-289.086 617.742,-286.257 607.996,-282.102 607.532,-289.086\"/>\r\n",
       "</g>\r\n",
       "<!-- 171 -->\r\n",
       "<g id=\"node24\" class=\"node\"><title>171</title>\r\n",
       "<path fill=\"#c0c0c0\" stroke=\"gray\" stroke-width=\"0.5\" d=\"M660,-252C660,-252 630,-252 630,-252 624,-252 618,-246 618,-240 618,-240 618,-228 618,-228 618,-222 624,-216 630,-216 630,-216 660,-216 660,-216 666,-216 672,-222 672,-228 672,-228 672,-240 672,-240 672,-246 666,-252 660,-252\"/>\r\n",
       "<text text-anchor=\"middle\" x=\"645\" y=\"-232.1\" font-family=\"Tahoma\" font-size=\"8.00\">(...)</text>\r\n",
       "</g>\r\n",
       "<!-- 169&#45;&gt;171 -->\r\n",
       "<g id=\"edge23\" class=\"edge\"><title>169&#45;&gt;171</title>\r\n",
       "<path fill=\"none\" stroke=\"gray\" stroke-width=\"0.5\" d=\"M582.338,-257.539C591.172,-254.167 600.047,-250.779 608.203,-247.665\"/>\r\n",
       "<polygon fill=\"gray\" stroke=\"gray\" stroke-width=\"0.5\" points=\"609.648,-250.86 617.742,-244.024 607.151,-244.32 609.648,-250.86\"/>\r\n",
       "</g>\r\n",
       "<!-- 173 -->\r\n",
       "<g id=\"node26\" class=\"node\"><title>173</title>\r\n",
       "<path fill=\"#8139e5\" fill-opacity=\"0.054902\" stroke=\"gray\" stroke-width=\"0.5\" d=\"M570,-188.5C570,-188.5 475,-188.5 475,-188.5 469,-188.5 463,-182.5 463,-176.5 463,-176.5 463,-147.5 463,-147.5 463,-141.5 469,-135.5 475,-135.5 475,-135.5 570,-135.5 570,-135.5 576,-135.5 582,-141.5 582,-147.5 582,-147.5 582,-176.5 582,-176.5 582,-182.5 576,-188.5 570,-188.5\"/>\r\n",
       "<text text-anchor=\"middle\" x=\"522.5\" y=\"-178.1\" font-family=\"Tahoma\" font-size=\"8.00\">memory_request &lt;= 0.0062</text>\r\n",
       "<text text-anchor=\"middle\" x=\"522.5\" y=\"-169.1\" font-family=\"Tahoma\" font-size=\"8.00\">gini = 0.658</text>\r\n",
       "<text text-anchor=\"middle\" x=\"522.5\" y=\"-160.1\" font-family=\"Tahoma\" font-size=\"8.00\">samples = 492</text>\r\n",
       "<text text-anchor=\"middle\" x=\"522.5\" y=\"-151.1\" font-family=\"Tahoma\" font-size=\"8.00\">value = [128, 173, 191]</text>\r\n",
       "<text text-anchor=\"middle\" x=\"522.5\" y=\"-142.1\" font-family=\"Tahoma\" font-size=\"8.00\">class = KILL</text>\r\n",
       "</g>\r\n",
       "<!-- 172&#45;&gt;173 -->\r\n",
       "<g id=\"edge25\" class=\"edge\"><title>172&#45;&gt;173</title>\r\n",
       "<path fill=\"none\" stroke=\"gray\" stroke-width=\"0.5\" d=\"M427.216,-162C435.544,-162 444.169,-162 452.667,-162\"/>\r\n",
       "<polygon fill=\"gray\" stroke=\"gray\" stroke-width=\"0.5\" points=\"452.941,-165.5 462.941,-162 452.941,-158.5 452.941,-165.5\"/>\r\n",
       "</g>\r\n",
       "<!-- 192 -->\r\n",
       "<g id=\"node29\" class=\"node\"><title>192</title>\r\n",
       "<path fill=\"#39e581\" fill-opacity=\"0.756863\" stroke=\"gray\" stroke-width=\"0.5\" d=\"M570,-98.5C570,-98.5 475,-98.5 475,-98.5 469,-98.5 463,-92.5 463,-86.5 463,-86.5 463,-57.5 463,-57.5 463,-51.5 469,-45.5 475,-45.5 475,-45.5 570,-45.5 570,-45.5 576,-45.5 582,-51.5 582,-57.5 582,-57.5 582,-86.5 582,-86.5 582,-92.5 576,-98.5 570,-98.5\"/>\r\n",
       "<text text-anchor=\"middle\" x=\"522.5\" y=\"-88.1\" font-family=\"Tahoma\" font-size=\"8.00\">memory_request &lt;= 0.0627</text>\r\n",
       "<text text-anchor=\"middle\" x=\"522.5\" y=\"-79.1\" font-family=\"Tahoma\" font-size=\"8.00\">gini = 0.3288</text>\r\n",
       "<text text-anchor=\"middle\" x=\"522.5\" y=\"-70.1\" font-family=\"Tahoma\" font-size=\"8.00\">samples = 7448</text>\r\n",
       "<text text-anchor=\"middle\" x=\"522.5\" y=\"-61.1\" font-family=\"Tahoma\" font-size=\"8.00\">value = [198, 5961, 1289]</text>\r\n",
       "<text text-anchor=\"middle\" x=\"522.5\" y=\"-52.1\" font-family=\"Tahoma\" font-size=\"8.00\">class = FINISH</text>\r\n",
       "</g>\r\n",
       "<!-- 172&#45;&gt;192 -->\r\n",
       "<g id=\"edge28\" class=\"edge\"><title>172&#45;&gt;192</title>\r\n",
       "<path fill=\"none\" stroke=\"gray\" stroke-width=\"0.5\" d=\"M413.578,-135.484C430.392,-125.593 449.657,-114.261 467.213,-103.934\"/>\r\n",
       "<polygon fill=\"gray\" stroke=\"gray\" stroke-width=\"0.5\" points=\"469.371,-106.725 476.216,-98.6377 465.822,-100.691 469.371,-106.725\"/>\r\n",
       "</g>\r\n",
       "<!-- 174 -->\r\n",
       "<g id=\"node27\" class=\"node\"><title>174</title>\r\n",
       "<path fill=\"#c0c0c0\" stroke=\"gray\" stroke-width=\"0.5\" d=\"M660,-198C660,-198 630,-198 630,-198 624,-198 618,-192 618,-186 618,-186 618,-174 618,-174 618,-168 624,-162 630,-162 630,-162 660,-162 660,-162 666,-162 672,-168 672,-174 672,-174 672,-186 672,-186 672,-192 666,-198 660,-198\"/>\r\n",
       "<text text-anchor=\"middle\" x=\"645\" y=\"-178.1\" font-family=\"Tahoma\" font-size=\"8.00\">(...)</text>\r\n",
       "</g>\r\n",
       "<!-- 173&#45;&gt;174 -->\r\n",
       "<g id=\"edge26\" class=\"edge\"><title>173&#45;&gt;174</title>\r\n",
       "<path fill=\"none\" stroke=\"gray\" stroke-width=\"0.5\" d=\"M582.338,-170.789C590.978,-172.08 599.657,-173.376 607.664,-174.572\"/>\r\n",
       "<polygon fill=\"gray\" stroke=\"gray\" stroke-width=\"0.5\" points=\"607.334,-178.062 617.742,-176.078 608.369,-171.139 607.334,-178.062\"/>\r\n",
       "</g>\r\n",
       "<!-- 191 -->\r\n",
       "<g id=\"node28\" class=\"node\"><title>191</title>\r\n",
       "<path fill=\"#c0c0c0\" stroke=\"gray\" stroke-width=\"0.5\" d=\"M660,-144C660,-144 630,-144 630,-144 624,-144 618,-138 618,-132 618,-132 618,-120 618,-120 618,-114 624,-108 630,-108 630,-108 660,-108 660,-108 666,-108 672,-114 672,-120 672,-120 672,-132 672,-132 672,-138 666,-144 660,-144\"/>\r\n",
       "<text text-anchor=\"middle\" x=\"645\" y=\"-124.1\" font-family=\"Tahoma\" font-size=\"8.00\">(...)</text>\r\n",
       "</g>\r\n",
       "<!-- 173&#45;&gt;191 -->\r\n",
       "<g id=\"edge27\" class=\"edge\"><title>173&#45;&gt;191</title>\r\n",
       "<path fill=\"none\" stroke=\"gray\" stroke-width=\"0.5\" d=\"M582.338,-144.422C591.075,-141.812 599.852,-139.189 607.933,-136.775\"/>\r\n",
       "<polygon fill=\"gray\" stroke=\"gray\" stroke-width=\"0.5\" points=\"609.162,-140.061 617.742,-133.845 607.158,-133.354 609.162,-140.061\"/>\r\n",
       "</g>\r\n",
       "<!-- 193 -->\r\n",
       "<g id=\"node30\" class=\"node\"><title>193</title>\r\n",
       "<path fill=\"#c0c0c0\" stroke=\"gray\" stroke-width=\"0.5\" d=\"M660,-90C660,-90 630,-90 630,-90 624,-90 618,-84 618,-78 618,-78 618,-66 618,-66 618,-60 624,-54 630,-54 630,-54 660,-54 660,-54 666,-54 672,-60 672,-66 672,-66 672,-78 672,-78 672,-84 666,-90 660,-90\"/>\r\n",
       "<text text-anchor=\"middle\" x=\"645\" y=\"-70.1\" font-family=\"Tahoma\" font-size=\"8.00\">(...)</text>\r\n",
       "</g>\r\n",
       "<!-- 192&#45;&gt;193 -->\r\n",
       "<g id=\"edge29\" class=\"edge\"><title>192&#45;&gt;193</title>\r\n",
       "<path fill=\"none\" stroke=\"gray\" stroke-width=\"0.5\" d=\"M582.338,-72C590.978,-72 599.657,-72 607.664,-72\"/>\r\n",
       "<polygon fill=\"gray\" stroke=\"gray\" stroke-width=\"0.5\" points=\"607.742,-75.5001 617.742,-72 607.742,-68.5001 607.742,-75.5001\"/>\r\n",
       "</g>\r\n",
       "<!-- 278 -->\r\n",
       "<g id=\"node31\" class=\"node\"><title>278</title>\r\n",
       "<path fill=\"#c0c0c0\" stroke=\"gray\" stroke-width=\"0.5\" d=\"M660,-36C660,-36 630,-36 630,-36 624,-36 618,-30 618,-24 618,-24 618,-12 618,-12 618,-6 624,-0 630,-0 630,-0 660,-0 660,-0 666,-0 672,-6 672,-12 672,-12 672,-24 672,-24 672,-30 666,-36 660,-36\"/>\r\n",
       "<text text-anchor=\"middle\" x=\"645\" y=\"-16.1\" font-family=\"Tahoma\" font-size=\"8.00\">(...)</text>\r\n",
       "</g>\r\n",
       "<!-- 192&#45;&gt;278 -->\r\n",
       "<g id=\"edge30\" class=\"edge\"><title>192&#45;&gt;278</title>\r\n",
       "<path fill=\"none\" stroke=\"gray\" stroke-width=\"0.5\" d=\"M582.338,-45.6328C591.27,-41.6303 600.242,-37.6092 608.471,-33.9217\"/>\r\n",
       "<polygon fill=\"gray\" stroke=\"gray\" stroke-width=\"0.5\" points=\"610.048,-37.0506 617.742,-29.7671 607.185,-30.6627 610.048,-37.0506\"/>\r\n",
       "</g>\r\n",
       "</g>\r\n",
       "</svg>\r\n"
      ]
     },
     "metadata": {},
     "output_type": "display_data"
    }
   ],
   "source": [
    "resource_dot = StringIO()\n",
    "\n",
    "export_graphviz(resource_clf, \n",
    "                feature_names=resource_features, \n",
    "                class_names=list(event_types.values()),\n",
    "                rotate=True, \n",
    "                rounded=True, \n",
    "                filled=True, \n",
    "                out_file=resource_dot, \n",
    "                max_depth=3)\n",
    "\n",
    "%dotobj resource_dot"
   ]
  },
  {
   "cell_type": "markdown",
   "metadata": {},
   "source": [
    "### Priority decision tree"
   ]
  },
  {
   "cell_type": "code",
   "execution_count": 11,
   "metadata": {
    "collapsed": true
   },
   "outputs": [
    {
     "data": {
      "image/svg+xml": [
       "<?xml version=\"1.0\" encoding=\"UTF-8\" standalone=\"no\"?>\r\n",
       "<!DOCTYPE svg PUBLIC \"-//W3C//DTD SVG 1.1//EN\"\r\n",
       " \"http://www.w3.org/Graphics/SVG/1.1/DTD/svg11.dtd\">\r\n",
       "<!-- Generated by graphviz version 2.38.0 (20140413.2041)\r\n",
       " -->\r\n",
       "<!-- Title: Tree Pages: 1 -->\r\n",
       "<svg width=\"670pt\" height=\"746pt\"\r\n",
       " viewBox=\"0.00 0.00 670.00 746.00\" xmlns=\"http://www.w3.org/2000/svg\" xmlns:xlink=\"http://www.w3.org/1999/xlink\">\r\n",
       "<g id=\"graph0\" class=\"graph\" transform=\"scale(1 1) rotate(0) translate(4 742)\">\r\n",
       "<title>Tree</title>\r\n",
       "<polygon fill=\"white\" stroke=\"none\" points=\"-4,4 -4,-742 666,-742 666,4 -4,4\"/>\r\n",
       "<!-- 0 -->\r\n",
       "<g id=\"node1\" class=\"node\"><title>0</title>\r\n",
       "<path fill=\"#39e581\" fill-opacity=\"0.423529\" stroke=\"gray\" stroke-width=\"0.5\" d=\"M105,-363.5C105,-363.5 12,-363.5 12,-363.5 6,-363.5 7.10543e-015,-357.5 7.10543e-015,-351.5 7.10543e-015,-351.5 7.10543e-015,-322.5 7.10543e-015,-322.5 7.10543e-015,-316.5 6,-310.5 12,-310.5 12,-310.5 105,-310.5 105,-310.5 111,-310.5 117,-316.5 117,-322.5 117,-322.5 117,-351.5 117,-351.5 117,-357.5 111,-363.5 105,-363.5\"/>\r\n",
       "<text text-anchor=\"middle\" x=\"58.5\" y=\"-353.1\" font-family=\"Tahoma\" font-size=\"8.00\">scheduling_class &lt;= 1.5</text>\r\n",
       "<text text-anchor=\"middle\" x=\"58.5\" y=\"-344.1\" font-family=\"Tahoma\" font-size=\"8.00\">gini = 0.4831</text>\r\n",
       "<text text-anchor=\"middle\" x=\"58.5\" y=\"-335.1\" font-family=\"Tahoma\" font-size=\"8.00\">samples = 23222</text>\r\n",
       "<text text-anchor=\"middle\" x=\"58.5\" y=\"-326.1\" font-family=\"Tahoma\" font-size=\"8.00\">value = [501, 14550, 8171]</text>\r\n",
       "<text text-anchor=\"middle\" x=\"58.5\" y=\"-317.1\" font-family=\"Tahoma\" font-size=\"8.00\">class = FINISH</text>\r\n",
       "</g>\r\n",
       "<!-- 1 -->\r\n",
       "<g id=\"node2\" class=\"node\"><title>1</title>\r\n",
       "<path fill=\"#39e581\" fill-opacity=\"0.796078\" stroke=\"gray\" stroke-width=\"0.5\" d=\"M258,-415.5C258,-415.5 165,-415.5 165,-415.5 159,-415.5 153,-409.5 153,-403.5 153,-403.5 153,-374.5 153,-374.5 153,-368.5 159,-362.5 165,-362.5 165,-362.5 258,-362.5 258,-362.5 264,-362.5 270,-368.5 270,-374.5 270,-374.5 270,-403.5 270,-403.5 270,-409.5 264,-415.5 258,-415.5\"/>\r\n",
       "<text text-anchor=\"middle\" x=\"211.5\" y=\"-405.1\" font-family=\"Tahoma\" font-size=\"8.00\">priority &lt;= 5.0</text>\r\n",
       "<text text-anchor=\"middle\" x=\"211.5\" y=\"-396.1\" font-family=\"Tahoma\" font-size=\"8.00\">gini = 0.2929</text>\r\n",
       "<text text-anchor=\"middle\" x=\"211.5\" y=\"-387.1\" font-family=\"Tahoma\" font-size=\"8.00\">samples = 17440</text>\r\n",
       "<text text-anchor=\"middle\" x=\"211.5\" y=\"-378.1\" font-family=\"Tahoma\" font-size=\"8.00\">value = [414, 14427, 2599]</text>\r\n",
       "<text text-anchor=\"middle\" x=\"211.5\" y=\"-369.1\" font-family=\"Tahoma\" font-size=\"8.00\">class = FINISH</text>\r\n",
       "</g>\r\n",
       "<!-- 0&#45;&gt;1 -->\r\n",
       "<g id=\"edge1\" class=\"edge\"><title>0&#45;&gt;1</title>\r\n",
       "<path fill=\"none\" stroke=\"gray\" stroke-width=\"0.5\" d=\"M117.017,-356.807C125.647,-359.779 134.61,-362.866 143.419,-365.899\"/>\r\n",
       "<polygon fill=\"gray\" stroke=\"gray\" stroke-width=\"0.5\" points=\"142.298,-369.215 152.893,-369.162 144.577,-362.596 142.298,-369.215\"/>\r\n",
       "<text text-anchor=\"middle\" x=\"130.422\" y=\"-378.22\" font-family=\"Tahoma\" font-size=\"8.00\">True</text>\r\n",
       "</g>\r\n",
       "<!-- 22 -->\r\n",
       "<g id=\"node17\" class=\"node\"><title>22</title>\r\n",
       "<path fill=\"#8139e5\" fill-opacity=\"0.964706\" stroke=\"gray\" stroke-width=\"0.5\" d=\"M251.5,-311.5C251.5,-311.5 171.5,-311.5 171.5,-311.5 165.5,-311.5 159.5,-305.5 159.5,-299.5 159.5,-299.5 159.5,-270.5 159.5,-270.5 159.5,-264.5 165.5,-258.5 171.5,-258.5 171.5,-258.5 251.5,-258.5 251.5,-258.5 257.5,-258.5 263.5,-264.5 263.5,-270.5 263.5,-270.5 263.5,-299.5 263.5,-299.5 263.5,-305.5 257.5,-311.5 251.5,-311.5\"/>\r\n",
       "<text text-anchor=\"middle\" x=\"211.5\" y=\"-301.1\" font-family=\"Tahoma\" font-size=\"8.00\">priority &lt;= 1.5</text>\r\n",
       "<text text-anchor=\"middle\" x=\"211.5\" y=\"-292.1\" font-family=\"Tahoma\" font-size=\"8.00\">gini = 0.0706</text>\r\n",
       "<text text-anchor=\"middle\" x=\"211.5\" y=\"-283.1\" font-family=\"Tahoma\" font-size=\"8.00\">samples = 5782</text>\r\n",
       "<text text-anchor=\"middle\" x=\"211.5\" y=\"-274.1\" font-family=\"Tahoma\" font-size=\"8.00\">value = [87, 123, 5572]</text>\r\n",
       "<text text-anchor=\"middle\" x=\"211.5\" y=\"-265.1\" font-family=\"Tahoma\" font-size=\"8.00\">class = KILL</text>\r\n",
       "</g>\r\n",
       "<!-- 0&#45;&gt;22 -->\r\n",
       "<g id=\"edge16\" class=\"edge\"><title>0&#45;&gt;22</title>\r\n",
       "<path fill=\"none\" stroke=\"gray\" stroke-width=\"0.5\" d=\"M117.017,-317.193C127.61,-313.545 138.704,-309.724 149.398,-306.042\"/>\r\n",
       "<polygon fill=\"gray\" stroke=\"gray\" stroke-width=\"0.5\" points=\"150.765,-309.273 159.08,-302.707 148.486,-302.654 150.765,-309.273\"/>\r\n",
       "<text text-anchor=\"middle\" x=\"136.61\" y=\"-289.849\" font-family=\"Tahoma\" font-size=\"8.00\">False</text>\r\n",
       "</g>\r\n",
       "<!-- 2 -->\r\n",
       "<g id=\"node3\" class=\"node\"><title>2</title>\r\n",
       "<path fill=\"#39e581\" fill-opacity=\"0.827451\" stroke=\"gray\" stroke-width=\"0.5\" d=\"M411,-602.5C411,-602.5 318,-602.5 318,-602.5 312,-602.5 306,-596.5 306,-590.5 306,-590.5 306,-561.5 306,-561.5 306,-555.5 312,-549.5 318,-549.5 318,-549.5 411,-549.5 411,-549.5 417,-549.5 423,-555.5 423,-561.5 423,-561.5 423,-590.5 423,-590.5 423,-596.5 417,-602.5 411,-602.5\"/>\r\n",
       "<text text-anchor=\"middle\" x=\"364.5\" y=\"-592.1\" font-family=\"Tahoma\" font-size=\"8.00\">priority &lt;= 0.5</text>\r\n",
       "<text text-anchor=\"middle\" x=\"364.5\" y=\"-583.1\" font-family=\"Tahoma\" font-size=\"8.00\">gini = 0.2579</text>\r\n",
       "<text text-anchor=\"middle\" x=\"364.5\" y=\"-574.1\" font-family=\"Tahoma\" font-size=\"8.00\">samples = 16747</text>\r\n",
       "<text text-anchor=\"middle\" x=\"364.5\" y=\"-565.1\" font-family=\"Tahoma\" font-size=\"8.00\">value = [191, 14238, 2318]</text>\r\n",
       "<text text-anchor=\"middle\" x=\"364.5\" y=\"-556.1\" font-family=\"Tahoma\" font-size=\"8.00\">class = FINISH</text>\r\n",
       "</g>\r\n",
       "<!-- 1&#45;&gt;2 -->\r\n",
       "<g id=\"edge2\" class=\"edge\"><title>1&#45;&gt;2</title>\r\n",
       "<path fill=\"none\" stroke=\"gray\" stroke-width=\"0.5\" d=\"M234.135,-415.793C260.821,-448.842 306.243,-505.092 335.548,-541.384\"/>\r\n",
       "<polygon fill=\"gray\" stroke=\"gray\" stroke-width=\"0.5\" points=\"332.9,-543.676 341.906,-549.257 338.346,-539.278 332.9,-543.676\"/>\r\n",
       "</g>\r\n",
       "<!-- 13 -->\r\n",
       "<g id=\"node10\" class=\"node\"><title>13</title>\r\n",
       "<path fill=\"#8139e5\" fill-opacity=\"0.121569\" stroke=\"gray\" stroke-width=\"0.5\" d=\"M404.5,-415.5C404.5,-415.5 324.5,-415.5 324.5,-415.5 318.5,-415.5 312.5,-409.5 312.5,-403.5 312.5,-403.5 312.5,-374.5 312.5,-374.5 312.5,-368.5 318.5,-362.5 324.5,-362.5 324.5,-362.5 404.5,-362.5 404.5,-362.5 410.5,-362.5 416.5,-368.5 416.5,-374.5 416.5,-374.5 416.5,-403.5 416.5,-403.5 416.5,-409.5 410.5,-415.5 404.5,-415.5\"/>\r\n",
       "<text text-anchor=\"middle\" x=\"364.5\" y=\"-405.1\" font-family=\"Tahoma\" font-size=\"8.00\">scheduling_class &lt;= 0.5</text>\r\n",
       "<text text-anchor=\"middle\" x=\"364.5\" y=\"-396.1\" font-family=\"Tahoma\" font-size=\"8.00\">gini = 0.6577</text>\r\n",
       "<text text-anchor=\"middle\" x=\"364.5\" y=\"-387.1\" font-family=\"Tahoma\" font-size=\"8.00\">samples = 693</text>\r\n",
       "<text text-anchor=\"middle\" x=\"364.5\" y=\"-378.1\" font-family=\"Tahoma\" font-size=\"8.00\">value = [223, 189, 281]</text>\r\n",
       "<text text-anchor=\"middle\" x=\"364.5\" y=\"-369.1\" font-family=\"Tahoma\" font-size=\"8.00\">class = KILL</text>\r\n",
       "</g>\r\n",
       "<!-- 1&#45;&gt;13 -->\r\n",
       "<g id=\"edge9\" class=\"edge\"><title>1&#45;&gt;13</title>\r\n",
       "<path fill=\"none\" stroke=\"gray\" stroke-width=\"0.5\" d=\"M270.017,-389C280.502,-389 291.478,-389 302.07,-389\"/>\r\n",
       "<polygon fill=\"gray\" stroke=\"gray\" stroke-width=\"0.5\" points=\"302.08,-392.5 312.08,-389 302.08,-385.5 302.08,-392.5\"/>\r\n",
       "</g>\r\n",
       "<!-- 3 -->\r\n",
       "<g id=\"node4\" class=\"node\"><title>3</title>\r\n",
       "<path fill=\"#39e581\" fill-opacity=\"0.427451\" stroke=\"gray\" stroke-width=\"0.5\" d=\"M555.5,-692.5C555.5,-692.5 475.5,-692.5 475.5,-692.5 469.5,-692.5 463.5,-686.5 463.5,-680.5 463.5,-680.5 463.5,-651.5 463.5,-651.5 463.5,-645.5 469.5,-639.5 475.5,-639.5 475.5,-639.5 555.5,-639.5 555.5,-639.5 561.5,-639.5 567.5,-645.5 567.5,-651.5 567.5,-651.5 567.5,-680.5 567.5,-680.5 567.5,-686.5 561.5,-692.5 555.5,-692.5\"/>\r\n",
       "<text text-anchor=\"middle\" x=\"515.5\" y=\"-682.1\" font-family=\"Tahoma\" font-size=\"8.00\">scheduling_class &lt;= 0.5</text>\r\n",
       "<text text-anchor=\"middle\" x=\"515.5\" y=\"-673.1\" font-family=\"Tahoma\" font-size=\"8.00\">gini = 0.5751</text>\r\n",
       "<text text-anchor=\"middle\" x=\"515.5\" y=\"-664.1\" font-family=\"Tahoma\" font-size=\"8.00\">samples = 402</text>\r\n",
       "<text text-anchor=\"middle\" x=\"515.5\" y=\"-655.1\" font-family=\"Tahoma\" font-size=\"8.00\">value = [104, 231, 67]</text>\r\n",
       "<text text-anchor=\"middle\" x=\"515.5\" y=\"-646.1\" font-family=\"Tahoma\" font-size=\"8.00\">class = FINISH</text>\r\n",
       "</g>\r\n",
       "<!-- 2&#45;&gt;3 -->\r\n",
       "<g id=\"edge3\" class=\"edge\"><title>2&#45;&gt;3</title>\r\n",
       "<path fill=\"none\" stroke=\"gray\" stroke-width=\"0.5\" d=\"M409.399,-602.516C425.773,-612.407 444.535,-623.739 461.632,-634.066\"/>\r\n",
       "<polygon fill=\"gray\" stroke=\"gray\" stroke-width=\"0.5\" points=\"460.031,-637.188 470.4,-639.362 463.65,-631.196 460.031,-637.188\"/>\r\n",
       "</g>\r\n",
       "<!-- 6 -->\r\n",
       "<g id=\"node7\" class=\"node\"><title>6</title>\r\n",
       "<path fill=\"#39e581\" fill-opacity=\"0.835294\" stroke=\"gray\" stroke-width=\"0.5\" d=\"M560,-602.5C560,-602.5 471,-602.5 471,-602.5 465,-602.5 459,-596.5 459,-590.5 459,-590.5 459,-561.5 459,-561.5 459,-555.5 465,-549.5 471,-549.5 471,-549.5 560,-549.5 560,-549.5 566,-549.5 572,-555.5 572,-561.5 572,-561.5 572,-590.5 572,-590.5 572,-596.5 566,-602.5 560,-602.5\"/>\r\n",
       "<text text-anchor=\"middle\" x=\"515.5\" y=\"-592.1\" font-family=\"Tahoma\" font-size=\"8.00\">scheduling_class &lt;= 0.5</text>\r\n",
       "<text text-anchor=\"middle\" x=\"515.5\" y=\"-583.1\" font-family=\"Tahoma\" font-size=\"8.00\">gini = 0.2466</text>\r\n",
       "<text text-anchor=\"middle\" x=\"515.5\" y=\"-574.1\" font-family=\"Tahoma\" font-size=\"8.00\">samples = 16345</text>\r\n",
       "<text text-anchor=\"middle\" x=\"515.5\" y=\"-565.1\" font-family=\"Tahoma\" font-size=\"8.00\">value = [87, 14007, 2251]</text>\r\n",
       "<text text-anchor=\"middle\" x=\"515.5\" y=\"-556.1\" font-family=\"Tahoma\" font-size=\"8.00\">class = FINISH</text>\r\n",
       "</g>\r\n",
       "<!-- 2&#45;&gt;6 -->\r\n",
       "<g id=\"edge6\" class=\"edge\"><title>2&#45;&gt;6</title>\r\n",
       "<path fill=\"none\" stroke=\"gray\" stroke-width=\"0.5\" d=\"M423.107,-576C431.375,-576 439.935,-576 448.351,-576\"/>\r\n",
       "<polygon fill=\"gray\" stroke=\"gray\" stroke-width=\"0.5\" points=\"448.516,-579.5 458.516,-576 448.516,-572.5 448.516,-579.5\"/>\r\n",
       "</g>\r\n",
       "<!-- 4 -->\r\n",
       "<g id=\"node5\" class=\"node\"><title>4</title>\r\n",
       "<path fill=\"#c0c0c0\" stroke=\"gray\" stroke-width=\"0.5\" d=\"M650,-738C650,-738 620,-738 620,-738 614,-738 608,-732 608,-726 608,-726 608,-714 608,-714 608,-708 614,-702 620,-702 620,-702 650,-702 650,-702 656,-702 662,-708 662,-714 662,-714 662,-726 662,-726 662,-732 656,-738 650,-738\"/>\r\n",
       "<text text-anchor=\"middle\" x=\"635\" y=\"-718.1\" font-family=\"Tahoma\" font-size=\"8.00\">(...)</text>\r\n",
       "</g>\r\n",
       "<!-- 3&#45;&gt;4 -->\r\n",
       "<g id=\"edge4\" class=\"edge\"><title>3&#45;&gt;4</title>\r\n",
       "<path fill=\"none\" stroke=\"gray\" stroke-width=\"0.5\" d=\"M567.695,-689.528C578.085,-694.303 588.795,-699.225 598.497,-703.684\"/>\r\n",
       "<polygon fill=\"gray\" stroke=\"gray\" stroke-width=\"0.5\" points=\"597.266,-706.97 607.813,-707.965 600.189,-700.609 597.266,-706.97\"/>\r\n",
       "</g>\r\n",
       "<!-- 5 -->\r\n",
       "<g id=\"node6\" class=\"node\"><title>5</title>\r\n",
       "<path fill=\"#c0c0c0\" stroke=\"gray\" stroke-width=\"0.5\" d=\"M650,-684C650,-684 620,-684 620,-684 614,-684 608,-678 608,-672 608,-672 608,-660 608,-660 608,-654 614,-648 620,-648 620,-648 650,-648 650,-648 656,-648 662,-654 662,-660 662,-660 662,-672 662,-672 662,-678 656,-684 650,-684\"/>\r\n",
       "<text text-anchor=\"middle\" x=\"635\" y=\"-664.1\" font-family=\"Tahoma\" font-size=\"8.00\">(...)</text>\r\n",
       "</g>\r\n",
       "<!-- 3&#45;&gt;5 -->\r\n",
       "<g id=\"edge5\" class=\"edge\"><title>3&#45;&gt;5</title>\r\n",
       "<path fill=\"none\" stroke=\"gray\" stroke-width=\"0.5\" d=\"M567.695,-666C577.76,-666 588.126,-666 597.585,-666\"/>\r\n",
       "<polygon fill=\"gray\" stroke=\"gray\" stroke-width=\"0.5\" points=\"597.814,-669.5 607.813,-666 597.813,-662.5 597.814,-669.5\"/>\r\n",
       "</g>\r\n",
       "<!-- 7 -->\r\n",
       "<g id=\"node8\" class=\"node\"><title>7</title>\r\n",
       "<path fill=\"#c0c0c0\" stroke=\"gray\" stroke-width=\"0.5\" d=\"M650,-630C650,-630 620,-630 620,-630 614,-630 608,-624 608,-618 608,-618 608,-606 608,-606 608,-600 614,-594 620,-594 620,-594 650,-594 650,-594 656,-594 662,-600 662,-606 662,-606 662,-618 662,-618 662,-624 656,-630 650,-630\"/>\r\n",
       "<text text-anchor=\"middle\" x=\"635\" y=\"-610.1\" font-family=\"Tahoma\" font-size=\"8.00\">(...)</text>\r\n",
       "</g>\r\n",
       "<!-- 6&#45;&gt;7 -->\r\n",
       "<g id=\"edge7\" class=\"edge\"><title>6&#45;&gt;7</title>\r\n",
       "<path fill=\"none\" stroke=\"gray\" stroke-width=\"0.5\" d=\"M572.153,-593.051C581.009,-595.764 589.959,-598.507 598.195,-601.03\"/>\r\n",
       "<polygon fill=\"gray\" stroke=\"gray\" stroke-width=\"0.5\" points=\"597.246,-604.4 607.833,-603.983 599.297,-597.707 597.246,-604.4\"/>\r\n",
       "</g>\r\n",
       "<!-- 10 -->\r\n",
       "<g id=\"node9\" class=\"node\"><title>10</title>\r\n",
       "<path fill=\"#c0c0c0\" stroke=\"gray\" stroke-width=\"0.5\" d=\"M650,-576C650,-576 620,-576 620,-576 614,-576 608,-570 608,-564 608,-564 608,-552 608,-552 608,-546 614,-540 620,-540 620,-540 650,-540 650,-540 656,-540 662,-546 662,-552 662,-552 662,-564 662,-564 662,-570 656,-576 650,-576\"/>\r\n",
       "<text text-anchor=\"middle\" x=\"635\" y=\"-556.1\" font-family=\"Tahoma\" font-size=\"8.00\">(...)</text>\r\n",
       "</g>\r\n",
       "<!-- 6&#45;&gt;10 -->\r\n",
       "<g id=\"edge8\" class=\"edge\"><title>6&#45;&gt;10</title>\r\n",
       "<path fill=\"none\" stroke=\"gray\" stroke-width=\"0.5\" d=\"M572.153,-567.474C580.912,-566.133 589.762,-564.777 597.923,-563.527\"/>\r\n",
       "<polygon fill=\"gray\" stroke=\"gray\" stroke-width=\"0.5\" points=\"598.478,-566.983 607.833,-562.009 597.418,-560.063 598.478,-566.983\"/>\r\n",
       "</g>\r\n",
       "<!-- 14 -->\r\n",
       "<g id=\"node11\" class=\"node\"><title>14</title>\r\n",
       "<path fill=\"#8139e5\" fill-opacity=\"0.435294\" stroke=\"gray\" stroke-width=\"0.5\" d=\"M553,-485.5C553,-485.5 478,-485.5 478,-485.5 472,-485.5 466,-479.5 466,-473.5 466,-473.5 466,-444.5 466,-444.5 466,-438.5 472,-432.5 478,-432.5 478,-432.5 553,-432.5 553,-432.5 559,-432.5 565,-438.5 565,-444.5 565,-444.5 565,-473.5 565,-473.5 565,-479.5 559,-485.5 553,-485.5\"/>\r\n",
       "<text text-anchor=\"middle\" x=\"515.5\" y=\"-475.1\" font-family=\"Tahoma\" font-size=\"8.00\">priority &lt;= 8.5</text>\r\n",
       "<text text-anchor=\"middle\" x=\"515.5\" y=\"-466.1\" font-family=\"Tahoma\" font-size=\"8.00\">gini = 0.5606</text>\r\n",
       "<text text-anchor=\"middle\" x=\"515.5\" y=\"-457.1\" font-family=\"Tahoma\" font-size=\"8.00\">samples = 474</text>\r\n",
       "<text text-anchor=\"middle\" x=\"515.5\" y=\"-448.1\" font-family=\"Tahoma\" font-size=\"8.00\">value = [128, 67, 279]</text>\r\n",
       "<text text-anchor=\"middle\" x=\"515.5\" y=\"-439.1\" font-family=\"Tahoma\" font-size=\"8.00\">class = KILL</text>\r\n",
       "</g>\r\n",
       "<!-- 13&#45;&gt;14 -->\r\n",
       "<g id=\"edge10\" class=\"edge\"><title>13&#45;&gt;14</title>\r\n",
       "<path fill=\"none\" stroke=\"gray\" stroke-width=\"0.5\" d=\"M416.777,-413.09C429.512,-419.073 443.253,-425.528 456.294,-431.655\"/>\r\n",
       "<polygon fill=\"gray\" stroke=\"gray\" stroke-width=\"0.5\" points=\"455.102,-434.962 465.641,-436.046 458.078,-428.626 455.102,-434.962\"/>\r\n",
       "</g>\r\n",
       "<!-- 17 -->\r\n",
       "<g id=\"node14\" class=\"node\"><title>17</title>\r\n",
       "<path fill=\"#39e581\" fill-opacity=\"0.219608\" stroke=\"gray\" stroke-width=\"0.5\" d=\"M548.5,-414.5C548.5,-414.5 482.5,-414.5 482.5,-414.5 476.5,-414.5 470.5,-408.5 470.5,-402.5 470.5,-402.5 470.5,-373.5 470.5,-373.5 470.5,-367.5 476.5,-361.5 482.5,-361.5 482.5,-361.5 548.5,-361.5 548.5,-361.5 554.5,-361.5 560.5,-367.5 560.5,-373.5 560.5,-373.5 560.5,-402.5 560.5,-402.5 560.5,-408.5 554.5,-414.5 548.5,-414.5\"/>\r\n",
       "<text text-anchor=\"middle\" x=\"515.5\" y=\"-404.1\" font-family=\"Tahoma\" font-size=\"8.00\">priority &lt;= 8.5</text>\r\n",
       "<text text-anchor=\"middle\" x=\"515.5\" y=\"-395.1\" font-family=\"Tahoma\" font-size=\"8.00\">gini = 0.5014</text>\r\n",
       "<text text-anchor=\"middle\" x=\"515.5\" y=\"-386.1\" font-family=\"Tahoma\" font-size=\"8.00\">samples = 219</text>\r\n",
       "<text text-anchor=\"middle\" x=\"515.5\" y=\"-377.1\" font-family=\"Tahoma\" font-size=\"8.00\">value = [95, 122, 2]</text>\r\n",
       "<text text-anchor=\"middle\" x=\"515.5\" y=\"-368.1\" font-family=\"Tahoma\" font-size=\"8.00\">class = FINISH</text>\r\n",
       "</g>\r\n",
       "<!-- 13&#45;&gt;17 -->\r\n",
       "<g id=\"edge13\" class=\"edge\"><title>13&#45;&gt;17</title>\r\n",
       "<path fill=\"none\" stroke=\"gray\" stroke-width=\"0.5\" d=\"M416.777,-388.656C430.732,-388.562 445.894,-388.46 460.018,-388.366\"/>\r\n",
       "<polygon fill=\"gray\" stroke=\"gray\" stroke-width=\"0.5\" points=\"460.112,-391.865 470.088,-388.298 460.065,-384.865 460.112,-391.865\"/>\r\n",
       "</g>\r\n",
       "<!-- 15 -->\r\n",
       "<g id=\"node12\" class=\"node\"><title>15</title>\r\n",
       "<path fill=\"#c0c0c0\" stroke=\"gray\" stroke-width=\"0.5\" d=\"M650,-522C650,-522 620,-522 620,-522 614,-522 608,-516 608,-510 608,-510 608,-498 608,-498 608,-492 614,-486 620,-486 620,-486 650,-486 650,-486 656,-486 662,-492 662,-498 662,-498 662,-510 662,-510 662,-516 656,-522 650,-522\"/>\r\n",
       "<text text-anchor=\"middle\" x=\"635\" y=\"-502.1\" font-family=\"Tahoma\" font-size=\"8.00\">(...)</text>\r\n",
       "</g>\r\n",
       "<!-- 14&#45;&gt;15 -->\r\n",
       "<g id=\"edge11\" class=\"edge\"><title>14&#45;&gt;15</title>\r\n",
       "<path fill=\"none\" stroke=\"gray\" stroke-width=\"0.5\" d=\"M565.31,-477.693C576.395,-481.939 587.967,-486.37 598.384,-490.36\"/>\r\n",
       "<polygon fill=\"gray\" stroke=\"gray\" stroke-width=\"0.5\" points=\"597.374,-493.721 607.964,-494.029 599.877,-487.184 597.374,-493.721\"/>\r\n",
       "</g>\r\n",
       "<!-- 16 -->\r\n",
       "<g id=\"node13\" class=\"node\"><title>16</title>\r\n",
       "<path fill=\"#c0c0c0\" stroke=\"gray\" stroke-width=\"0.5\" d=\"M650,-468C650,-468 620,-468 620,-468 614,-468 608,-462 608,-456 608,-456 608,-444 608,-444 608,-438 614,-432 620,-432 620,-432 650,-432 650,-432 656,-432 662,-438 662,-444 662,-444 662,-456 662,-456 662,-462 656,-468 650,-468\"/>\r\n",
       "<text text-anchor=\"middle\" x=\"635\" y=\"-448.1\" font-family=\"Tahoma\" font-size=\"8.00\">(...)</text>\r\n",
       "</g>\r\n",
       "<!-- 14&#45;&gt;16 -->\r\n",
       "<g id=\"edge12\" class=\"edge\"><title>14&#45;&gt;16</title>\r\n",
       "<path fill=\"none\" stroke=\"gray\" stroke-width=\"0.5\" d=\"M565.31,-455.261C576.167,-454.43 587.49,-453.562 597.738,-452.778\"/>\r\n",
       "<polygon fill=\"gray\" stroke=\"gray\" stroke-width=\"0.5\" points=\"598.26,-456.248 607.964,-451.994 597.726,-449.268 598.26,-456.248\"/>\r\n",
       "</g>\r\n",
       "<!-- 18 -->\r\n",
       "<g id=\"node15\" class=\"node\"><title>18</title>\r\n",
       "<path fill=\"#c0c0c0\" stroke=\"gray\" stroke-width=\"0.5\" d=\"M650,-414C650,-414 620,-414 620,-414 614,-414 608,-408 608,-402 608,-402 608,-390 608,-390 608,-384 614,-378 620,-378 620,-378 650,-378 650,-378 656,-378 662,-384 662,-390 662,-390 662,-402 662,-402 662,-408 656,-414 650,-414\"/>\r\n",
       "<text text-anchor=\"middle\" x=\"635\" y=\"-394.1\" font-family=\"Tahoma\" font-size=\"8.00\">(...)</text>\r\n",
       "</g>\r\n",
       "<!-- 17&#45;&gt;18 -->\r\n",
       "<g id=\"edge14\" class=\"edge\"><title>17&#45;&gt;18</title>\r\n",
       "<path fill=\"none\" stroke=\"gray\" stroke-width=\"0.5\" d=\"M560.587,-391.002C572.752,-391.83 585.813,-392.719 597.497,-393.515\"/>\r\n",
       "<polygon fill=\"gray\" stroke=\"gray\" stroke-width=\"0.5\" points=\"597.56,-397.027 607.775,-394.214 598.036,-390.043 597.56,-397.027\"/>\r\n",
       "</g>\r\n",
       "<!-- 19 -->\r\n",
       "<g id=\"node16\" class=\"node\"><title>19</title>\r\n",
       "<path fill=\"#c0c0c0\" stroke=\"gray\" stroke-width=\"0.5\" d=\"M650,-360C650,-360 620,-360 620,-360 614,-360 608,-354 608,-348 608,-348 608,-336 608,-336 608,-330 614,-324 620,-324 620,-324 650,-324 650,-324 656,-324 662,-330 662,-336 662,-336 662,-348 662,-348 662,-354 656,-360 650,-360\"/>\r\n",
       "<text text-anchor=\"middle\" x=\"635\" y=\"-340.1\" font-family=\"Tahoma\" font-size=\"8.00\">(...)</text>\r\n",
       "</g>\r\n",
       "<!-- 17&#45;&gt;19 -->\r\n",
       "<g id=\"edge15\" class=\"edge\"><title>17&#45;&gt;19</title>\r\n",
       "<path fill=\"none\" stroke=\"gray\" stroke-width=\"0.5\" d=\"M560.587,-370.74C573,-365.881 586.347,-360.656 598.211,-356.011\"/>\r\n",
       "<polygon fill=\"gray\" stroke=\"gray\" stroke-width=\"0.5\" points=\"599.739,-359.172 607.775,-352.267 597.187,-352.653 599.739,-359.172\"/>\r\n",
       "</g>\r\n",
       "<!-- 23 -->\r\n",
       "<g id=\"node18\" class=\"node\"><title>23</title>\r\n",
       "<path fill=\"#8139e5\" fill-opacity=\"0.996078\" stroke=\"gray\" stroke-width=\"0.5\" d=\"M397.5,-311.5C397.5,-311.5 331.5,-311.5 331.5,-311.5 325.5,-311.5 319.5,-305.5 319.5,-299.5 319.5,-299.5 319.5,-270.5 319.5,-270.5 319.5,-264.5 325.5,-258.5 331.5,-258.5 331.5,-258.5 397.5,-258.5 397.5,-258.5 403.5,-258.5 409.5,-264.5 409.5,-270.5 409.5,-270.5 409.5,-299.5 409.5,-299.5 409.5,-305.5 403.5,-311.5 397.5,-311.5\"/>\r\n",
       "<text text-anchor=\"middle\" x=\"364.5\" y=\"-301.1\" font-family=\"Tahoma\" font-size=\"8.00\">priority &lt;= 0.5</text>\r\n",
       "<text text-anchor=\"middle\" x=\"364.5\" y=\"-292.1\" font-family=\"Tahoma\" font-size=\"8.00\">gini = 0.0044</text>\r\n",
       "<text text-anchor=\"middle\" x=\"364.5\" y=\"-283.1\" font-family=\"Tahoma\" font-size=\"8.00\">samples = 5389</text>\r\n",
       "<text text-anchor=\"middle\" x=\"364.5\" y=\"-274.1\" font-family=\"Tahoma\" font-size=\"8.00\">value = [3, 9, 5377]</text>\r\n",
       "<text text-anchor=\"middle\" x=\"364.5\" y=\"-265.1\" font-family=\"Tahoma\" font-size=\"8.00\">class = KILL</text>\r\n",
       "</g>\r\n",
       "<!-- 22&#45;&gt;23 -->\r\n",
       "<g id=\"edge17\" class=\"edge\"><title>22&#45;&gt;23</title>\r\n",
       "<path fill=\"none\" stroke=\"gray\" stroke-width=\"0.5\" d=\"M263.622,-285C278.359,-285 294.485,-285 309.397,-285\"/>\r\n",
       "<polygon fill=\"gray\" stroke=\"gray\" stroke-width=\"0.5\" points=\"309.495,-288.5 319.495,-285 309.495,-281.5 309.495,-288.5\"/>\r\n",
       "</g>\r\n",
       "<!-- 28 -->\r\n",
       "<g id=\"node23\" class=\"node\"><title>28</title>\r\n",
       "<path fill=\"#8139e5\" fill-opacity=\"0.290196\" stroke=\"gray\" stroke-width=\"0.5\" d=\"M404.5,-188.5C404.5,-188.5 324.5,-188.5 324.5,-188.5 318.5,-188.5 312.5,-182.5 312.5,-176.5 312.5,-176.5 312.5,-147.5 312.5,-147.5 312.5,-141.5 318.5,-135.5 324.5,-135.5 324.5,-135.5 404.5,-135.5 404.5,-135.5 410.5,-135.5 416.5,-141.5 416.5,-147.5 416.5,-147.5 416.5,-176.5 416.5,-176.5 416.5,-182.5 410.5,-188.5 404.5,-188.5\"/>\r\n",
       "<text text-anchor=\"middle\" x=\"364.5\" y=\"-178.1\" font-family=\"Tahoma\" font-size=\"8.00\">scheduling_class &lt;= 2.5</text>\r\n",
       "<text text-anchor=\"middle\" x=\"364.5\" y=\"-169.1\" font-family=\"Tahoma\" font-size=\"8.00\">gini = 0.624</text>\r\n",
       "<text text-anchor=\"middle\" x=\"364.5\" y=\"-160.1\" font-family=\"Tahoma\" font-size=\"8.00\">samples = 393</text>\r\n",
       "<text text-anchor=\"middle\" x=\"364.5\" y=\"-151.1\" font-family=\"Tahoma\" font-size=\"8.00\">value = [84, 114, 195]</text>\r\n",
       "<text text-anchor=\"middle\" x=\"364.5\" y=\"-142.1\" font-family=\"Tahoma\" font-size=\"8.00\">class = KILL</text>\r\n",
       "</g>\r\n",
       "<!-- 22&#45;&gt;28 -->\r\n",
       "<g id=\"edge22\" class=\"edge\"><title>22&#45;&gt;28</title>\r\n",
       "<path fill=\"none\" stroke=\"gray\" stroke-width=\"0.5\" d=\"M245.265,-258.311C268.02,-239.775 298.498,-214.948 322.811,-195.144\"/>\r\n",
       "<polygon fill=\"gray\" stroke=\"gray\" stroke-width=\"0.5\" points=\"325.256,-197.666 330.799,-188.637 320.835,-192.239 325.256,-197.666\"/>\r\n",
       "</g>\r\n",
       "<!-- 24 -->\r\n",
       "<g id=\"node19\" class=\"node\"><title>24</title>\r\n",
       "<path fill=\"#8139e5\" stroke=\"gray\" stroke-width=\"0.5\" d=\"M548.5,-341C548.5,-341 482.5,-341 482.5,-341 476.5,-341 470.5,-335 470.5,-329 470.5,-329 470.5,-309 470.5,-309 470.5,-303 476.5,-297 482.5,-297 482.5,-297 548.5,-297 548.5,-297 554.5,-297 560.5,-303 560.5,-309 560.5,-309 560.5,-329 560.5,-329 560.5,-335 554.5,-341 548.5,-341\"/>\r\n",
       "<text text-anchor=\"middle\" x=\"515.5\" y=\"-330.6\" font-family=\"Tahoma\" font-size=\"8.00\">gini = 0.0</text>\r\n",
       "<text text-anchor=\"middle\" x=\"515.5\" y=\"-321.6\" font-family=\"Tahoma\" font-size=\"8.00\">samples = 5339</text>\r\n",
       "<text text-anchor=\"middle\" x=\"515.5\" y=\"-312.6\" font-family=\"Tahoma\" font-size=\"8.00\">value = [0, 0, 5339]</text>\r\n",
       "<text text-anchor=\"middle\" x=\"515.5\" y=\"-303.6\" font-family=\"Tahoma\" font-size=\"8.00\">class = KILL</text>\r\n",
       "</g>\r\n",
       "<!-- 23&#45;&gt;24 -->\r\n",
       "<g id=\"edge18\" class=\"edge\"><title>23&#45;&gt;24</title>\r\n",
       "<path fill=\"none\" stroke=\"gray\" stroke-width=\"0.5\" d=\"M409.801,-295.109C425.643,-298.724 443.678,-302.839 460.263,-306.624\"/>\r\n",
       "<polygon fill=\"gray\" stroke=\"gray\" stroke-width=\"0.5\" points=\"459.841,-310.117 470.369,-308.93 461.398,-303.293 459.841,-310.117\"/>\r\n",
       "</g>\r\n",
       "<!-- 25 -->\r\n",
       "<g id=\"node20\" class=\"node\"><title>25</title>\r\n",
       "<path fill=\"#8139e5\" fill-opacity=\"0.705882\" stroke=\"gray\" stroke-width=\"0.5\" d=\"M555.5,-278.5C555.5,-278.5 475.5,-278.5 475.5,-278.5 469.5,-278.5 463.5,-272.5 463.5,-266.5 463.5,-266.5 463.5,-237.5 463.5,-237.5 463.5,-231.5 469.5,-225.5 475.5,-225.5 475.5,-225.5 555.5,-225.5 555.5,-225.5 561.5,-225.5 567.5,-231.5 567.5,-237.5 567.5,-237.5 567.5,-266.5 567.5,-266.5 567.5,-272.5 561.5,-278.5 555.5,-278.5\"/>\r\n",
       "<text text-anchor=\"middle\" x=\"515.5\" y=\"-268.1\" font-family=\"Tahoma\" font-size=\"8.00\">scheduling_class &lt;= 2.5</text>\r\n",
       "<text text-anchor=\"middle\" x=\"515.5\" y=\"-259.1\" font-family=\"Tahoma\" font-size=\"8.00\">gini = 0.3864</text>\r\n",
       "<text text-anchor=\"middle\" x=\"515.5\" y=\"-250.1\" font-family=\"Tahoma\" font-size=\"8.00\">samples = 50</text>\r\n",
       "<text text-anchor=\"middle\" x=\"515.5\" y=\"-241.1\" font-family=\"Tahoma\" font-size=\"8.00\">value = [3, 9, 38]</text>\r\n",
       "<text text-anchor=\"middle\" x=\"515.5\" y=\"-232.1\" font-family=\"Tahoma\" font-size=\"8.00\">class = KILL</text>\r\n",
       "</g>\r\n",
       "<!-- 23&#45;&gt;25 -->\r\n",
       "<g id=\"edge19\" class=\"edge\"><title>23&#45;&gt;25</title>\r\n",
       "<path fill=\"none\" stroke=\"gray\" stroke-width=\"0.5\" d=\"M409.801,-275.188C423.463,-272.163 438.754,-268.776 453.341,-265.545\"/>\r\n",
       "<polygon fill=\"gray\" stroke=\"gray\" stroke-width=\"0.5\" points=\"454.291,-268.92 463.298,-263.34 452.777,-262.085 454.291,-268.92\"/>\r\n",
       "</g>\r\n",
       "<!-- 26 -->\r\n",
       "<g id=\"node21\" class=\"node\"><title>26</title>\r\n",
       "<path fill=\"#c0c0c0\" stroke=\"gray\" stroke-width=\"0.5\" d=\"M650,-306C650,-306 620,-306 620,-306 614,-306 608,-300 608,-294 608,-294 608,-282 608,-282 608,-276 614,-270 620,-270 620,-270 650,-270 650,-270 656,-270 662,-276 662,-282 662,-282 662,-294 662,-294 662,-300 656,-306 650,-306\"/>\r\n",
       "<text text-anchor=\"middle\" x=\"635\" y=\"-286.1\" font-family=\"Tahoma\" font-size=\"8.00\">(...)</text>\r\n",
       "</g>\r\n",
       "<!-- 25&#45;&gt;26 -->\r\n",
       "<g id=\"edge20\" class=\"edge\"><title>25&#45;&gt;26</title>\r\n",
       "<path fill=\"none\" stroke=\"gray\" stroke-width=\"0.5\" d=\"M567.695,-267.685C577.977,-270.835 588.572,-274.082 598.194,-277.03\"/>\r\n",
       "<polygon fill=\"gray\" stroke=\"gray\" stroke-width=\"0.5\" points=\"597.227,-280.394 607.813,-279.977 599.277,-273.701 597.227,-280.394\"/>\r\n",
       "</g>\r\n",
       "<!-- 27 -->\r\n",
       "<g id=\"node22\" class=\"node\"><title>27</title>\r\n",
       "<path fill=\"#c0c0c0\" stroke=\"gray\" stroke-width=\"0.5\" d=\"M650,-252C650,-252 620,-252 620,-252 614,-252 608,-246 608,-240 608,-240 608,-228 608,-228 608,-222 614,-216 620,-216 620,-216 650,-216 650,-216 656,-216 662,-222 662,-228 662,-228 662,-240 662,-240 662,-246 656,-252 650,-252\"/>\r\n",
       "<text text-anchor=\"middle\" x=\"635\" y=\"-232.1\" font-family=\"Tahoma\" font-size=\"8.00\">(...)</text>\r\n",
       "</g>\r\n",
       "<!-- 25&#45;&gt;27 -->\r\n",
       "<g id=\"edge21\" class=\"edge\"><title>25&#45;&gt;27</title>\r\n",
       "<path fill=\"none\" stroke=\"gray\" stroke-width=\"0.5\" d=\"M567.695,-244.157C577.869,-242.599 588.349,-240.993 597.889,-239.532\"/>\r\n",
       "<polygon fill=\"gray\" stroke=\"gray\" stroke-width=\"0.5\" points=\"598.459,-242.986 607.813,-238.012 597.399,-236.066 598.459,-242.986\"/>\r\n",
       "</g>\r\n",
       "<!-- 29 -->\r\n",
       "<g id=\"node24\" class=\"node\"><title>29</title>\r\n",
       "<path fill=\"#39e581\" fill-opacity=\"0.313725\" stroke=\"gray\" stroke-width=\"0.5\" d=\"M551,-188.5C551,-188.5 480,-188.5 480,-188.5 474,-188.5 468,-182.5 468,-176.5 468,-176.5 468,-147.5 468,-147.5 468,-141.5 474,-135.5 480,-135.5 480,-135.5 551,-135.5 551,-135.5 557,-135.5 563,-141.5 563,-147.5 563,-147.5 563,-176.5 563,-176.5 563,-182.5 557,-188.5 551,-188.5\"/>\r\n",
       "<text text-anchor=\"middle\" x=\"515.5\" y=\"-178.1\" font-family=\"Tahoma\" font-size=\"8.00\">priority &lt;= 8.5</text>\r\n",
       "<text text-anchor=\"middle\" x=\"515.5\" y=\"-169.1\" font-family=\"Tahoma\" font-size=\"8.00\">gini = 0.5953</text>\r\n",
       "<text text-anchor=\"middle\" x=\"515.5\" y=\"-160.1\" font-family=\"Tahoma\" font-size=\"8.00\">samples = 215</text>\r\n",
       "<text text-anchor=\"middle\" x=\"515.5\" y=\"-151.1\" font-family=\"Tahoma\" font-size=\"8.00\">value = [68, 114, 33]</text>\r\n",
       "<text text-anchor=\"middle\" x=\"515.5\" y=\"-142.1\" font-family=\"Tahoma\" font-size=\"8.00\">class = FINISH</text>\r\n",
       "</g>\r\n",
       "<!-- 28&#45;&gt;29 -->\r\n",
       "<g id=\"edge23\" class=\"edge\"><title>28&#45;&gt;29</title>\r\n",
       "<path fill=\"none\" stroke=\"gray\" stroke-width=\"0.5\" d=\"M416.777,-162C429.925,-162 444.145,-162 457.56,-162\"/>\r\n",
       "<polygon fill=\"gray\" stroke=\"gray\" stroke-width=\"0.5\" points=\"457.63,-165.5 467.63,-162 457.63,-158.5 457.63,-165.5\"/>\r\n",
       "</g>\r\n",
       "<!-- 36 -->\r\n",
       "<g id=\"node27\" class=\"node\"><title>36</title>\r\n",
       "<path fill=\"#8139e5\" fill-opacity=\"0.901961\" stroke=\"gray\" stroke-width=\"0.5\" d=\"M548.5,-98.5C548.5,-98.5 482.5,-98.5 482.5,-98.5 476.5,-98.5 470.5,-92.5 470.5,-86.5 470.5,-86.5 470.5,-57.5 470.5,-57.5 470.5,-51.5 476.5,-45.5 482.5,-45.5 482.5,-45.5 548.5,-45.5 548.5,-45.5 554.5,-45.5 560.5,-51.5 560.5,-57.5 560.5,-57.5 560.5,-86.5 560.5,-86.5 560.5,-92.5 554.5,-98.5 548.5,-98.5\"/>\r\n",
       "<text text-anchor=\"middle\" x=\"515.5\" y=\"-88.1\" font-family=\"Tahoma\" font-size=\"8.00\">priority &lt;= 8.5</text>\r\n",
       "<text text-anchor=\"middle\" x=\"515.5\" y=\"-79.1\" font-family=\"Tahoma\" font-size=\"8.00\">gini = 0.1636</text>\r\n",
       "<text text-anchor=\"middle\" x=\"515.5\" y=\"-70.1\" font-family=\"Tahoma\" font-size=\"8.00\">samples = 178</text>\r\n",
       "<text text-anchor=\"middle\" x=\"515.5\" y=\"-61.1\" font-family=\"Tahoma\" font-size=\"8.00\">value = [16, 0, 162]</text>\r\n",
       "<text text-anchor=\"middle\" x=\"515.5\" y=\"-52.1\" font-family=\"Tahoma\" font-size=\"8.00\">class = KILL</text>\r\n",
       "</g>\r\n",
       "<!-- 28&#45;&gt;36 -->\r\n",
       "<g id=\"edge26\" class=\"edge\"><title>28&#45;&gt;36</title>\r\n",
       "<path fill=\"none\" stroke=\"gray\" stroke-width=\"0.5\" d=\"M409.399,-135.484C425.773,-125.593 444.535,-114.261 461.632,-103.934\"/>\r\n",
       "<polygon fill=\"gray\" stroke=\"gray\" stroke-width=\"0.5\" points=\"463.65,-106.804 470.4,-98.6377 460.031,-100.812 463.65,-106.804\"/>\r\n",
       "</g>\r\n",
       "<!-- 30 -->\r\n",
       "<g id=\"node25\" class=\"node\"><title>30</title>\r\n",
       "<path fill=\"#c0c0c0\" stroke=\"gray\" stroke-width=\"0.5\" d=\"M650,-198C650,-198 620,-198 620,-198 614,-198 608,-192 608,-186 608,-186 608,-174 608,-174 608,-168 614,-162 620,-162 620,-162 650,-162 650,-162 656,-162 662,-168 662,-174 662,-174 662,-186 662,-186 662,-192 656,-198 650,-198\"/>\r\n",
       "<text text-anchor=\"middle\" x=\"635\" y=\"-178.1\" font-family=\"Tahoma\" font-size=\"8.00\">(...)</text>\r\n",
       "</g>\r\n",
       "<!-- 29&#45;&gt;30 -->\r\n",
       "<g id=\"edge24\" class=\"edge\"><title>29&#45;&gt;30</title>\r\n",
       "<path fill=\"none\" stroke=\"gray\" stroke-width=\"0.5\" d=\"M563.277,-169.166C574.722,-170.919 586.801,-172.77 597.674,-174.435\"/>\r\n",
       "<polygon fill=\"gray\" stroke=\"gray\" stroke-width=\"0.5\" points=\"597.255,-177.912 607.67,-175.966 598.315,-170.992 597.255,-177.912\"/>\r\n",
       "</g>\r\n",
       "<!-- 33 -->\r\n",
       "<g id=\"node26\" class=\"node\"><title>33</title>\r\n",
       "<path fill=\"#c0c0c0\" stroke=\"gray\" stroke-width=\"0.5\" d=\"M650,-144C650,-144 620,-144 620,-144 614,-144 608,-138 608,-132 608,-132 608,-120 608,-120 608,-114 614,-108 620,-108 620,-108 650,-108 650,-108 656,-108 662,-114 662,-120 662,-120 662,-132 662,-132 662,-138 656,-144 650,-144\"/>\r\n",
       "<text text-anchor=\"middle\" x=\"635\" y=\"-124.1\" font-family=\"Tahoma\" font-size=\"8.00\">(...)</text>\r\n",
       "</g>\r\n",
       "<!-- 29&#45;&gt;33 -->\r\n",
       "<g id=\"edge25\" class=\"edge\"><title>29&#45;&gt;33</title>\r\n",
       "<path fill=\"none\" stroke=\"gray\" stroke-width=\"0.5\" d=\"M563.277,-147.668C574.84,-144.126 587.05,-140.385 598.01,-137.027\"/>\r\n",
       "<polygon fill=\"gray\" stroke=\"gray\" stroke-width=\"0.5\" points=\"599.134,-140.343 607.67,-134.067 597.083,-133.65 599.134,-140.343\"/>\r\n",
       "</g>\r\n",
       "<!-- 37 -->\r\n",
       "<g id=\"node28\" class=\"node\"><title>37</title>\r\n",
       "<path fill=\"#c0c0c0\" stroke=\"gray\" stroke-width=\"0.5\" d=\"M650,-90C650,-90 620,-90 620,-90 614,-90 608,-84 608,-78 608,-78 608,-66 608,-66 608,-60 614,-54 620,-54 620,-54 650,-54 650,-54 656,-54 662,-60 662,-66 662,-66 662,-78 662,-78 662,-84 656,-90 650,-90\"/>\r\n",
       "<text text-anchor=\"middle\" x=\"635\" y=\"-70.1\" font-family=\"Tahoma\" font-size=\"8.00\">(...)</text>\r\n",
       "</g>\r\n",
       "<!-- 36&#45;&gt;37 -->\r\n",
       "<g id=\"edge27\" class=\"edge\"><title>36&#45;&gt;37</title>\r\n",
       "<path fill=\"none\" stroke=\"gray\" stroke-width=\"0.5\" d=\"M560.587,-72C572.752,-72 585.813,-72 597.497,-72\"/>\r\n",
       "<polygon fill=\"gray\" stroke=\"gray\" stroke-width=\"0.5\" points=\"597.775,-75.5001 607.775,-72 597.775,-68.5001 597.775,-75.5001\"/>\r\n",
       "</g>\r\n",
       "<!-- 38 -->\r\n",
       "<g id=\"node29\" class=\"node\"><title>38</title>\r\n",
       "<path fill=\"#c0c0c0\" stroke=\"gray\" stroke-width=\"0.5\" d=\"M650,-36C650,-36 620,-36 620,-36 614,-36 608,-30 608,-24 608,-24 608,-12 608,-12 608,-6 614,-0 620,-0 620,-0 650,-0 650,-0 656,-0 662,-6 662,-12 662,-12 662,-24 662,-24 662,-30 656,-36 650,-36\"/>\r\n",
       "<text text-anchor=\"middle\" x=\"635\" y=\"-16.1\" font-family=\"Tahoma\" font-size=\"8.00\">(...)</text>\r\n",
       "</g>\r\n",
       "<!-- 36&#45;&gt;38 -->\r\n",
       "<g id=\"edge28\" class=\"edge\"><title>36&#45;&gt;38</title>\r\n",
       "<path fill=\"none\" stroke=\"gray\" stroke-width=\"0.5\" d=\"M560.587,-51.7388C573.124,-45.9768 586.614,-39.7775 598.566,-34.2845\"/>\r\n",
       "<polygon fill=\"gray\" stroke=\"gray\" stroke-width=\"0.5\" points=\"600.15,-37.4086 607.775,-30.0525 597.227,-31.0482 600.15,-37.4086\"/>\r\n",
       "</g>\r\n",
       "</g>\r\n",
       "</svg>\r\n"
      ]
     },
     "metadata": {},
     "output_type": "display_data"
    }
   ],
   "source": [
    "prio_dot = StringIO()\n",
    "\n",
    "export_graphviz(prio_clf, \n",
    "                feature_names=prio_features, \n",
    "                class_names=list(event_types.values()),\n",
    "                rotate=True, \n",
    "                rounded=True, \n",
    "                filled=True, \n",
    "                out_file=prio_dot, \n",
    "                max_depth=3)\n",
    "\n",
    "%dotobj prio_dot"
   ]
  },
  {
   "cell_type": "markdown",
   "metadata": {},
   "source": [
    "## SVM"
   ]
  },
  {
   "cell_type": "markdown",
   "metadata": {},
   "source": [
    "### Data normalization"
   ]
  },
  {
   "cell_type": "code",
   "execution_count": 10,
   "metadata": {
    "collapsed": true
   },
   "outputs": [],
   "source": [
    "scaler = preprocessing.MinMaxScaler()"
   ]
  },
  {
   "cell_type": "code",
   "execution_count": 11,
   "metadata": {
    "collapsed": false
   },
   "outputs": [
    {
     "data": {
      "text/plain": [
       "(1503, 2)"
      ]
     },
     "execution_count": 11,
     "metadata": {},
     "output_type": "execute_result"
    }
   ],
   "source": [
    "from sklearn.feature_selection import SelectKBest\n",
    "from sklearn.feature_selection import chi2\n",
    "\n",
    "X = tf[['cpu_request', 'memory_request', 'priority', 'scheduling_class']].values\n",
    "y = tf.event_type.values\n",
    "X_new = SelectKBest(chi2, k=2).fit_transform(X, y)\n",
    "X_new.shape"
   ]
  },
  {
   "cell_type": "code",
   "execution_count": 12,
   "metadata": {
    "collapsed": false
   },
   "outputs": [
    {
     "data": {
      "text/plain": [
       "array([[  2.49900000e-02,   3.33900000e-02,   2.00000000e+00,\n",
       "          0.00000000e+00],\n",
       "       [  2.49900000e-02,   3.33900000e-02,   2.00000000e+00,\n",
       "          0.00000000e+00],\n",
       "       [  1.87400000e-02,   1.24400000e-02,   0.00000000e+00,\n",
       "          3.00000000e+00],\n",
       "       ..., \n",
       "       [  3.12500000e-02,   2.79500000e-02,   9.00000000e+00,\n",
       "          1.00000000e+00],\n",
       "       [  6.25000000e-02,   6.21800000e-03,   9.00000000e+00,\n",
       "          0.00000000e+00],\n",
       "       [  6.25000000e-02,   6.21800000e-03,   9.00000000e+00,\n",
       "          0.00000000e+00]])"
      ]
     },
     "execution_count": 12,
     "metadata": {},
     "output_type": "execute_result"
    }
   ],
   "source": [
    "X"
   ]
  },
  {
   "cell_type": "code",
   "execution_count": 13,
   "metadata": {
    "collapsed": false
   },
   "outputs": [
    {
     "data": {
      "text/plain": [
       "array([[ 2.,  0.],\n",
       "       [ 2.,  0.],\n",
       "       [ 0.,  3.],\n",
       "       ..., \n",
       "       [ 9.,  1.],\n",
       "       [ 9.,  0.],\n",
       "       [ 9.,  0.]])"
      ]
     },
     "execution_count": 13,
     "metadata": {},
     "output_type": "execute_result"
    }
   ],
   "source": [
    "X_new"
   ]
  },
  {
   "cell_type": "code",
   "execution_count": 13,
   "metadata": {
    "collapsed": true
   },
   "outputs": [],
   "source": [
    "# pca = PCA(n_components=1)\n",
    "# X = pca.fit_transform(tf[['cpu_request', 'memory_request', 'priority', 'scheduling_class']].values)\n",
    "# X_data = tf[['priority', 'scheduling_class']].values\n",
    "# y = tf.event_type.values"
   ]
  },
  {
   "cell_type": "code",
   "execution_count": 14,
   "metadata": {
    "collapsed": false
   },
   "outputs": [],
   "source": [
    "X = scaler.fit_transform(X_new)"
   ]
  },
  {
   "cell_type": "code",
   "execution_count": 361,
   "metadata": {
    "collapsed": false
   },
   "outputs": [
    {
     "data": {
      "text/plain": [
       "array([[ 1.        ,  0.        ],\n",
       "       [ 1.        ,  0.        ],\n",
       "       [ 0.        ,  1.        ],\n",
       "       ..., \n",
       "       [ 0.92609236,  0.37729689],\n",
       "       [ 1.        ,  0.        ],\n",
       "       [ 1.        ,  0.        ]])"
      ]
     },
     "execution_count": 361,
     "metadata": {},
     "output_type": "execute_result"
    }
   ],
   "source": [
    "X_normalized = preprocessing.normalize(X, norm='l2')\n",
    "X_normalized"
   ]
  },
  {
   "cell_type": "code",
   "execution_count": 16,
   "metadata": {
    "collapsed": true
   },
   "outputs": [],
   "source": [
    "from sklearn.cross_validation import StratifiedShuffleSplit\n",
    "from sklearn.grid_search import GridSearchCV"
   ]
  },
  {
   "cell_type": "code",
   "execution_count": 13,
   "metadata": {
    "collapsed": false
   },
   "outputs": [
    {
     "data": {
      "text/plain": [
       "GridSearchCV(cv=StratifiedShuffleSplit(labels=[ 4.  4. ...,  3.  3.], n_iter=5, test_size=0.2, random_state=42),\n",
       "       error_score='raise',\n",
       "       estimator=SVC(C=1.0, cache_size=200, class_weight=None, coef0=0.0,\n",
       "  decision_function_shape=None, degree=3, gamma='auto', kernel='rbf',\n",
       "  max_iter=-1, probability=False, random_state=None, shrinking=True,\n",
       "  tol=0.001, verbose=False),\n",
       "       fit_params={}, iid=True, n_jobs=1,\n",
       "       param_grid={'gamma': array([  1.00000e-09,   1.00000e-08,   1.00000e-07,   1.00000e-06,\n",
       "         1.00000e-05,   1.00000e-04,   1.00000e-03,   1.00000e-02,\n",
       "         1.00000e-01,   1.00000e+00,   1.00000e+01,   1.00000e+02,\n",
       "         1.00000e+03]), 'C': array([  1.00000e-02,   1.00000e-01,   1.00000e+00,   1.00000e+01,\n",
       "         1.00000e+02,   1.00000e+03,   1.00000e+04,   1.00000e+05,\n",
       "         1.00000e+06,   1.00000e+07,   1.00000e+08,   1.00000e+09,\n",
       "         1.00000e+10])},\n",
       "       pre_dispatch='2*n_jobs', refit=True, scoring=None, verbose=0)"
      ]
     },
     "execution_count": 13,
     "metadata": {},
     "output_type": "execute_result"
    }
   ],
   "source": [
    "C_range = np.logspace(-2, 10, 13)\n",
    "gamma_range = np.logspace(-9, 3, 13)\n",
    "param_grid = dict(gamma=gamma_range, C=C_range)\n",
    "cv = StratifiedShuffleSplit(y, n_iter=5, test_size=0.2, random_state=42)\n",
    "grid = GridSearchCV(svm.SVC(), param_grid=param_grid, cv=cv)\n",
    "grid.fit(X, y)"
   ]
  },
  {
   "cell_type": "code",
   "execution_count": 14,
   "metadata": {
    "collapsed": false
   },
   "outputs": [
    {
     "name": "stdout",
     "output_type": "stream",
     "text": [
      "The best parameters are {'gamma': 1.0, 'C': 1000.0} with a score of 0.83\n"
     ]
    }
   ],
   "source": [
    "print(\"The best parameters are %s with a score of %0.2f\"\n",
    "      % (grid.best_params_, grid.best_score_))"
   ]
  },

  {
   "cell_type": "code",
   "execution_count": null,
   "metadata": {
    "collapsed": false,
    "scrolled": true
   },
   "outputs": [],
   "source": [
    "C_range = np.logspace(-2, 10, 13)\n",
    "gamma_range = np.logspace(-9, 3, 13)\n",
    "param_grid = dict(gamma=gamma_range, C=C_range)\n",
    "cv = StratifiedShuffleSplit(y, n_iter=5, test_size=0.2, random_state=42)\n",
    "grid = GridSearchCV(svm.SVC(), param_grid=param_grid, cv=cv)\n",
    "grid.fit(X, y)"
   ]
  },
  {
   "cell_type": "code",
   "execution_count": 420,
   "metadata": {
    "collapsed": false
   },
   "outputs": [
    {
     "name": "stdout",
     "output_type": "stream",
     "text": [
      "The best parameters are {'gamma': 1.0, 'C': 1000.0} with a score of 0.83\n"
     ]
    }
   ],
   "source": [
    "print(\"The best parameters are %s with a score of %0.2f\"\n",
    "      % (grid.best_params_, grid.best_score_))"
   ]
  },
  {
   "cell_type": "code",
   "execution_count": 436,
   "metadata": {
    "collapsed": false
   },
   "outputs": [
    {
     "data": {
      "text/plain": [
       "<matplotlib.text.Text at 0x29c9fc17400>"
      ]
     },
     "execution_count": 436,
     "metadata": {},
     "output_type": "execute_result"
    },
    {
     "data": {
      "image/png": "[encoded data removed]",
      "text/plain": [
       "<matplotlib.figure.Figure at 0x29c9f55b358>"
      ]
     },
     "metadata": {},
     "output_type": "display_data"
    }
   ],
   "source": [
    "scores = [x[1] for x in grid.grid_scores_]\n",
    "scores = np.array(scores).reshape(len(C_range), len(gamma_range))\n",
    "\n",
    "plt.imshow(scores, interpolation='nearest', cmap=plt.cm.Spectral)\n",
    "plt.xlabel('gamma')\n",
    "plt.ylabel('C')\n",
    "plt.colorbar()\n",
    "plt.xticks(np.arange(len(gamma_range)), gamma_range, rotation=45)\n",
    "plt.yticks(np.arange(len(C_range)), C_range)\n",
    "plt.title('Validation accuracy')"
   ]
  },
  {
   "cell_type": "code",
   "execution_count": 22,
   "metadata": {
    "collapsed": false
   },
   "outputs": [],
   "source": [
    "C = 1000\n",
    "lin_svc = svm.LinearSVC(C=C).fit(X, y)\n",
    "svc = svm.SVC(kernel='linear', C=C).fit(X, y)\n",
    "poly_svc = svm.SVC(kernel='poly', degree=3, C=C).fit(X, y)\n",
    "rbf_svc = svm.SVC(kernel='rbf', gamma=1, C=C).fit(X, y)"
   ]
  },
  {
   "cell_type": "code",
   "execution_count": 23,
   "metadata": {
    "collapsed": false
   },
   "outputs": [],
   "source": [
    "x_min, x_max = X[:, 0].min() - 1, X[:, 0].max() + 1\n",
    "y_min, y_max = X[:, 1].min() - 1, X[:, 1].max() + 1\n",
    "xx, yy = np.meshgrid(np.arange(x_min, x_max, .02), np.arange(y_min, y_max, .02))"
   ]
  },
  {
   "cell_type": "code",
   "execution_count": 20,
   "metadata": {
    "collapsed": false
   },
   "outputs": [],
   "source": [
    "Z = poly_svc.predict(np.c_[xx.ravel(), yy.ravel()])"
   ]
  },
  {
   "cell_type": "code",
   "execution_count": 51,
   "metadata": {
    "collapsed": false
   },
   "outputs": [
    {
     "data": {
      "image/png": "[encoded data removed]",
      "text/plain": [
       "<matplotlib.figure.Figure at 0x2b425e72be0>"
      ]
     },
     "metadata": {},
     "output_type": "display_data"
    }
   ],
   "source": [
    "classifiers = ['LinearSVC', 'SVC (Linear kernel)', 'SVC (Polynomial kernel)', 'SVC (RBF kernel)']\n",
    "fig, ax = plt.subplots(2, 2, sharex=True, sharey=True)\n",
    "\n",
    "for i, clf in enumerate([lin_svc, svc, poly_svc, rbf_svc]):\n",
    "    Z = clf.predict(np.c_[xx.ravel(), yy.ravel()])\n",
    "    Z = Z.reshape(xx.shape)\n",
    "    \n",
    "    axis = ax[int(i/2)][i % 2]\n",
    "    axis.contourf(xx, yy, Z, alpha=0.75, cmap=plt.cm.bone)\n",
    "    axis.scatter(X[:, 0], X[:, 1], c=y, cmap=plt.cm.Spectral)\n",
    "    \n",
    "    axis.set_title('{} - score: {:.2f}'.format(classifiers[i], clf.score(X, y)))\n",
    "    axis.set_xlabel('priority')\n",
    "    axis.set_ylabel('scheduling_class')\n",
    "    axis.set_xlim(xx.min(), xx.max())\n",
    "    axis.set_ylim(yy.min(), yy.max())\n",
    "    axis.set_xticks(())\n",
    "    axis.set_yticks(())"
   ]
  },
  {
   "cell_type": "code",
   "execution_count": 59,
   "metadata": {
    "collapsed": false
   },
   "outputs": [
    {
     "data": {
      "text/plain": [
       "array([[ 0.18181818,  0.        ],\n",
       "       [ 0.18181818,  0.        ],\n",
       "       [ 0.        ,  1.        ],\n",
       "       ..., \n",
       "       [ 0.81818182,  0.33333333],\n",
       "       [ 0.81818182,  0.        ],\n",
       "       [ 0.81818182,  0.        ]])"
      ]
     },
     "execution_count": 59,
     "metadata": {},
     "output_type": "execute_result"
    }
   ],
   "source": [
    "X"
   ]
  },
  {
   "cell_type": "code",
   "execution_count": 56,
   "metadata": {
    "collapsed": false
   },
   "outputs": [
    {
     "data": {
      "text/plain": [
       "{'C': 1000,\n",
       " 'cache_size': 200,\n",
       " 'class_weight': None,\n",
       " 'coef0': 0.0,\n",
       " 'decision_function_shape': None,\n",
       " 'degree': 3,\n",
       " 'gamma': 1,\n",
       " 'kernel': 'rbf',\n",
       " 'max_iter': -1,\n",
       " 'probability': False,\n",
       " 'random_state': None,\n",
       " 'shrinking': True,\n",
       " 'tol': 0.001,\n",
       " 'verbose': False}"
      ]
     },
     "execution_count": 56,
     "metadata": {},
     "output_type": "execute_result"
    }
   ],
   "source": [
    "rbf_svc.get_params()"
   ]
  },
  {
   "cell_type": "code",
   "execution_count": 58,
   "metadata": {
    "collapsed": false
   },
   "outputs": [
    {
     "data": {
      "text/plain": [
       "(22500, 2)"
      ]
     },
     "execution_count": 58,
     "metadata": {},
     "output_type": "execute_result"
    }
   ],
   "source": [
    "np.c_[xx.ravel(), yy.ravel()].shape"
   ]
  },
  {
   "cell_type": "code",
   "execution_count": null,
   "metadata": {
    "collapsed": true
   },
   "outputs": [],
   "source": [
    "for i, label in enumerate(est.labels_):\n",
    "    clusters = clusters.append({\n",
    "            'cluster': label,\n",
    "            'event_type': resource_df[['event_type']].values[i][0],\n",
    "            'cpu_request': features[i][0],\n",
    "            'memory_request': features[i][1],\n",
    "        }, ignore_index=True)"
   ]
  },
  {
   "cell_type": "markdown",
   "metadata": {
    "collapsed": true
   },
   "source": [
    "## K-Means"
   ]
  },
  {
   "cell_type": "code",
   "execution_count": 254,
   "metadata": {
    "collapsed": false
   },
   "outputs": [
    {
     "name": "stdout",
     "output_type": "stream",
     "text": [
      "2 0.465120139274\n",
      "3 0.455225193651\n",
      "4 0.0718381696015\n",
      "5 0.135104818155\n",
      "6 0.191099442606\n",
      "7 0.264059383749\n",
      "8 0.269236651772\n",
      "9 0.175421362751\n",
      "10 0.153086305761\n",
      "11 0.0228123607252\n",
      "12 0.0412649105766\n",
      "13 0.00486547504379\n"
     ]
    }
   ],
   "source": [
    "resource_df = df[df.event_type.isin(event_select)][['event_type', 'cpu_request', 'memory_request', 'priority', 'scheduling_class']][:1000]\n",
    "features = resource_df[['event_type', 'priority', 'scheduling_class']].values\n",
    "\n",
    "for n in range(2, 14):\n",
    "    est = KMeans(n)\n",
    "    est.fit(features)\n",
    "    print(n, silhouette_score(data, est.labels_, metric='euclidean'))"
   ]
  },
  {
   "cell_type": "code",
   "execution_count": 255,
   "metadata": {
    "collapsed": false
   },
   "outputs": [
    {
     "data": {
      "text/plain": [
       "KMeans(copy_x=True, init='k-means++', max_iter=300, n_clusters=3, n_init=10,\n",
       "    n_jobs=1, precompute_distances='auto', random_state=None, tol=0.0001,\n",
       "    verbose=0)"
      ]
     },
     "execution_count": 255,
     "metadata": {},
     "output_type": "execute_result"
    }
   ],
   "source": [
    "est = KMeans(3)\n",
    "est.fit(features)"
   ]
  },
  {
   "cell_type": "code",
   "execution_count": 256,
   "metadata": {
    "collapsed": false
   },
   "outputs": [
    {
     "data": {
      "text/plain": [
       "<matplotlib.collections.PathCollection at 0x29c9c762d68>"
      ]
     },
     "execution_count": 256,
     "metadata": {},
     "output_type": "execute_result"
    },
    {
     "data": {
      "image/png": "[encoded data removed]",
      "text/plain": [
       "<matplotlib.figure.Figure at 0x29ca00b36d8>"
      ]
     },
     "metadata": {},
     "output_type": "display_data"
    }
   ],
   "source": [
    "centroids = est.cluster_centers_\n",
    "\n",
    "plt.scatter(centroids[:, 0], centroids[:, 1], s=200, c='r')\n",
    "plt.scatter(features[:, 0], features[:, 1], alpha=.5)"
   ]
  },
  {
   "cell_type": "code",
   "execution_count": 260,
   "metadata": {
    "collapsed": true
   },
   "outputs": [],
   "source": [
    "est.fit_predict?"
   ]
  },
  {
   "cell_type": "code",
   "execution_count": 249,
   "metadata": {
    "collapsed": true
   },
   "outputs": [],
   "source": [
    "clusters = pd.DataFrame(columns=['cluster', 'event_type', 'cpu_request', 'memory_request'])\n",
    "\n",
    "for i, label in enumerate(est.labels_):\n",
    "    clusters = clusters.append({\n",
    "            'cluster': label,\n",
    "            'event_type': resource_df[['event_type']].values[i][0],\n",
    "            'cpu_request': features[i][0],\n",
    "            'memory_request': features[i][1],\n",
    "        }, ignore_index=True)\n",
    "\n",
    "clusters.cluster = clusters.cluster.apply(lambda x: round(x))\n",
    "clusters.event_type = clusters.event_type.apply(lambda x: round(x))"
   ]
  },
  {
   "cell_type": "code",
   "execution_count": 251,
   "metadata": {
    "collapsed": false
   },
   "outputs": [
    {
     "data": {
      "text/html": [
       "<div>\n",
       "<table border=\"1\" class=\"dataframe\">\n",
       "  <thead>\n",
       "    <tr style=\"text-align: right;\">\n",
       "      <th></th>\n",
       "      <th>cluster</th>\n",
       "      <th>event_type</th>\n",
       "      <th>cpu_request</th>\n",
       "      <th>memory_request</th>\n",
       "    </tr>\n",
       "  </thead>\n",
       "  <tbody>\n",
       "    <tr>\n",
       "      <th>0</th>\n",
       "      <td>0</td>\n",
       "      <td>4</td>\n",
       "      <td>2.0</td>\n",
       "      <td>0.0</td>\n",
       "    </tr>\n",
       "    <tr>\n",
       "      <th>1</th>\n",
       "      <td>0</td>\n",
       "      <td>4</td>\n",
       "      <td>2.0</td>\n",
       "      <td>0.0</td>\n",
       "    </tr>\n",
       "    <tr>\n",
       "      <th>2</th>\n",
       "      <td>1</td>\n",
       "      <td>5</td>\n",
       "      <td>0.0</td>\n",
       "      <td>3.0</td>\n",
       "    </tr>\n",
       "    <tr>\n",
       "      <th>3</th>\n",
       "      <td>1</td>\n",
       "      <td>5</td>\n",
       "      <td>0.0</td>\n",
       "      <td>2.0</td>\n",
       "    </tr>\n",
       "    <tr>\n",
       "      <th>4</th>\n",
       "      <td>1</td>\n",
       "      <td>5</td>\n",
       "      <td>0.0</td>\n",
       "      <td>2.0</td>\n",
       "    </tr>\n",
       "  </tbody>\n",
       "</table>\n",
       "</div>"
      ],
      "text/plain": [
       "   cluster  event_type  cpu_request  memory_request\n",
       "0        0           4          2.0             0.0\n",
       "1        0           4          2.0             0.0\n",
       "2        1           5          0.0             3.0\n",
       "3        1           5          0.0             2.0\n",
       "4        1           5          0.0             2.0"
      ]
     },
     "execution_count": 251,
     "metadata": {},
     "output_type": "execute_result"
    }
   ],
   "source": [
    "clusters.head()"
   ]
  },
  {
   "cell_type": "code",
   "execution_count": 253,
   "metadata": {
    "collapsed": false
   },
   "outputs": [
    {
     "data": {
      "image/png": "[encoded data removed]",
      "text/plain": [
       "<matplotlib.figure.Figure at 0x29ca2046400>"
      ]
     },
     "metadata": {},
     "output_type": "display_data"
    }
   ],
   "source": [
    "fig, axes = plt.subplots(nrows=1, ncols=3, sharex=True, sharey=True)\n",
    "for i in range(3):\n",
    "    clusters[clusters.cluster==i][['cpu_request', 'memory_request']].groupby(clusters.event_type).mean().plot(kind='bar', ax=axes[i])\n",
    "    axes[i].set_title('Cluster %s' % str(i + 1))"
   ]
  },
  {
   "cell_type": "code",
   "execution_count": 129,
   "metadata": {
    "collapsed": false
   },
   "outputs": [
    {
     "data": {
      "text/plain": [
       "Series([], Name: cluster, dtype: int64)"
      ]
     },
     "execution_count": 129,
     "metadata": {},
     "output_type": "execute_result"
    }
   ],
   "source": [
    "clusters[clusters.cluster==8].cluster.groupby(clusters.event_type).count()"
   ]
  },
  {
   "cell_type": "code",
   "execution_count": 163,
   "metadata": {
    "collapsed": false
   },
   "outputs": [
    {
     "data": {
      "text/html": [
       "<div>\n",
       "<table border=\"1\" class=\"dataframe\">\n",
       "  <thead>\n",
       "    <tr style=\"text-align: right;\">\n",
       "      <th></th>\n",
       "      <th>cluster</th>\n",
       "      <th>event_type</th>\n",
       "      <th>cpu_request</th>\n",
       "      <th>memory_request</th>\n",
       "    </tr>\n",
       "  </thead>\n",
       "  <tbody>\n",
       "    <tr>\n",
       "      <th>0</th>\n",
       "      <td>1</td>\n",
       "      <td>FINISH</td>\n",
       "      <td>0.027255</td>\n",
       "      <td>0.027255</td>\n",
       "    </tr>\n",
       "    <tr>\n",
       "      <th>1</th>\n",
       "      <td>1</td>\n",
       "      <td>FINISH</td>\n",
       "      <td>0.027255</td>\n",
       "      <td>0.027255</td>\n",
       "    </tr>\n",
       "    <tr>\n",
       "      <th>2</th>\n",
       "      <td>0</td>\n",
       "      <td>KILL</td>\n",
       "      <td>0.018027</td>\n",
       "      <td>0.018027</td>\n",
       "    </tr>\n",
       "    <tr>\n",
       "      <th>3</th>\n",
       "      <td>6</td>\n",
       "      <td>KILL</td>\n",
       "      <td>0.068671</td>\n",
       "      <td>0.068671</td>\n",
       "    </tr>\n",
       "    <tr>\n",
       "      <th>4</th>\n",
       "      <td>6</td>\n",
       "      <td>KILL</td>\n",
       "      <td>0.068671</td>\n",
       "      <td>0.068671</td>\n",
       "    </tr>\n",
       "  </tbody>\n",
       "</table>\n",
       "</div>"
      ],
      "text/plain": [
       "   cluster event_type  cpu_request  memory_request\n",
       "0        1     FINISH     0.027255        0.027255\n",
       "1        1     FINISH     0.027255        0.027255\n",
       "2        0       KILL     0.018027        0.018027\n",
       "3        6       KILL     0.068671        0.068671\n",
       "4        6       KILL     0.068671        0.068671"
      ]
     },
     "execution_count": 163,
     "metadata": {},
     "output_type": "execute_result"
    }
   ],
   "source": [
    "clusters.head()"
   ]
  },
  {
   "cell_type": "code",
   "execution_count": 162,
   "metadata": {
    "collapsed": false
   },
   "outputs": [],
   "source": [
    "event_types = {\n",
    "    3: 'FAIL',\n",
    "    4: 'FINISH',\n",
    "    5: 'KILL',\n",
    "}\n",
    "clusters.event_type = clusters.event_type.apply(lambda x: event_types[x])"
   ]
  },
  {
   "cell_type": "code",
   "execution_count": 134,
   "metadata": {
    "collapsed": false
   },
   "outputs": [],
   "source": [
    "iris = sns.load_dataset(\"iris\")"
   ]
  },
  {
   "cell_type": "code",
   "execution_count": 135,
   "metadata": {
    "collapsed": false
   },
   "outputs": [
    {
     "data": {
      "text/html": [
       "<div>\n",
       "<table border=\"1\" class=\"dataframe\">\n",
       "  <thead>\n",
       "    <tr style=\"text-align: right;\">\n",
       "      <th></th>\n",
       "      <th>sepal_length</th>\n",
       "      <th>sepal_width</th>\n",
       "      <th>petal_length</th>\n",
       "      <th>petal_width</th>\n",
       "      <th>species</th>\n",
       "    </tr>\n",
       "  </thead>\n",
       "  <tbody>\n",
       "    <tr>\n",
       "      <th>0</th>\n",
       "      <td>5.1</td>\n",
       "      <td>3.5</td>\n",
       "      <td>1.4</td>\n",
       "      <td>0.2</td>\n",
       "      <td>setosa</td>\n",
       "    </tr>\n",
       "    <tr>\n",
       "      <th>1</th>\n",
       "      <td>4.9</td>\n",
       "      <td>3.0</td>\n",
       "      <td>1.4</td>\n",
       "      <td>0.2</td>\n",
       "      <td>setosa</td>\n",
       "    </tr>\n",
       "    <tr>\n",
       "      <th>2</th>\n",
       "      <td>4.7</td>\n",
       "      <td>3.2</td>\n",
       "      <td>1.3</td>\n",
       "      <td>0.2</td>\n",
       "      <td>setosa</td>\n",
       "    </tr>\n",
       "    <tr>\n",
       "      <th>3</th>\n",
       "      <td>4.6</td>\n",
       "      <td>3.1</td>\n",
       "      <td>1.5</td>\n",
       "      <td>0.2</td>\n",
       "      <td>setosa</td>\n",
       "    </tr>\n",
       "    <tr>\n",
       "      <th>4</th>\n",
       "      <td>5.0</td>\n",
       "      <td>3.6</td>\n",
       "      <td>1.4</td>\n",
       "      <td>0.2</td>\n",
       "      <td>setosa</td>\n",
       "    </tr>\n",
       "  </tbody>\n",
       "</table>\n",
       "</div>"
      ],
      "text/plain": [
       "   sepal_length  sepal_width  petal_length  petal_width species\n",
       "0           5.1          3.5           1.4          0.2  setosa\n",
       "1           4.9          3.0           1.4          0.2  setosa\n",
       "2           4.7          3.2           1.3          0.2  setosa\n",
       "3           4.6          3.1           1.5          0.2  setosa\n",
       "4           5.0          3.6           1.4          0.2  setosa"
      ]
     },
     "execution_count": 135,
     "metadata": {},
     "output_type": "execute_result"
    }
   ],
   "source": [
    "iris.head()"
   ]
  },
  {
   "cell_type": "code",
   "execution_count": 171,
   "metadata": {
    "collapsed": false
   },
   "outputs": [
    {
     "data": {
      "text/plain": [
       "<seaborn.axisgrid.PairGrid at 0x29c99a5eb00>"
      ]
     },
     "execution_count": 171,
     "metadata": {},
     "output_type": "execute_result"
    },
    {
     "data": {
      "image/png": "[encoded data removed]",
      "text/plain": [
       "<matplotlib.figure.Figure at 0x29c99a5eb38>"
      ]
     },
     "metadata": {},
     "output_type": "display_data"
    }
   ],
   "source": [
    "sns.pairplot(clusters, hue=\"event_type\", kind='reg', diag_kind='kde', aspect=2)"
   ]
  },
  {
   "cell_type": "markdown",
   "metadata": {},
   "source": [
    "### PCA 2"
   ]
  },
  {
   "cell_type": "code",
   "execution_count": 198,
   "metadata": {
    "collapsed": false
   },
   "outputs": [],
   "source": [
    "resource_df = df[df.event_type.isin(event_select)][['event_type', 'cpu_request', 'memory_request']][:1000]\n",
    "classifier = resource_df.event_type.values\n",
    "pca = PCA(n_components=1)\n",
    "resource_data = pca.fit_transform(resource_df[['cpu_request', 'memory_request']].values)\n",
    "data = np.column_stack((classifier, resource_data[:,0]))"
   ]
  },
  {
   "cell_type": "code",
   "execution_count": 197,
   "metadata": {
    "collapsed": false
   },
   "outputs": [
    {
     "name": "stdout",
     "output_type": "stream",
     "text": [
      "2 0.936029582382\n",
      "3 0.97939938775\n",
      "4 0.978444902544\n",
      "5 0.938945540024\n",
      "6 0.863454833739\n",
      "7 0.856292496757\n",
      "8 0.893543036775\n",
      "9 0.881623295776\n",
      "10 0.824335293245\n",
      "11 0.827144310393\n"
     ]
    }
   ],
   "source": [
    "for n in range(2, 12):\n",
    "    est = KMeans(n)\n",
    "    est.fit(data)\n",
    "    print(n, silhouette_score(data, est.labels_, metric='euclidean'))"
   ]
  },
  {
   "cell_type": "code",
   "execution_count": 199,
   "metadata": {
    "collapsed": false
   },
   "outputs": [
    {
     "data": {
      "text/plain": [
       "KMeans(copy_x=True, init='k-means++', max_iter=300, n_clusters=4, n_init=10,\n",
       "    n_jobs=1, precompute_distances='auto', random_state=None, tol=0.0001,\n",
       "    verbose=0)"
      ]
     },
     "execution_count": 199,
     "metadata": {},
     "output_type": "execute_result"
    }
   ],
   "source": [
    "est = KMeans(4)\n",
    "est.fit(data)"
   ]
  },
  {
   "cell_type": "code",
   "execution_count": 200,
   "metadata": {
    "collapsed": false
   },
   "outputs": [
    {
     "data": {
      "text/plain": [
       "<matplotlib.collections.PathCollection at 0x29c9b7ed860>"
      ]
     },
     "execution_count": 200,
     "metadata": {},
     "output_type": "execute_result"
    },
    {
     "data": {
      "image/png": "[encoded data removed]",
      "text/plain": [
       "<matplotlib.figure.Figure at 0x29c9b7ed828>"
      ]
     },
     "metadata": {},
     "output_type": "display_data"
    }
   ],
   "source": [
    "centroids = est.cluster_centers_\n",
    "\n",
    "plt.scatter(centroids[:, 0], centroids[:, 1], s=200, c='r')\n",
    "plt.scatter(data[:, 0], data[:, 1], alpha=.5)"
   ]
  },
  {
   "cell_type": "code",
   "execution_count": 210,
   "metadata": {
    "collapsed": true
   },
   "outputs": [],
   "source": [
    "clusters = pd.DataFrame(columns=['cluster', 'event_type', 'pca_composed'])\n",
    "\n",
    "for i, label in enumerate(est.labels_):\n",
    "    clusters = clusters.append({\n",
    "            'cluster': label,\n",
    "            'event_type': data[i][0],\n",
    "            'pca_composed': data[i][1],\n",
    "        }, ignore_index=True)\n",
    "\n",
    "clusters.cluster = clusters.cluster.apply(lambda x: round(x))\n",
    "clusters.event_type = clusters.event_type.apply(lambda x: round(x))"
   ]
  },
  {
   "cell_type": "code",
   "execution_count": 215,
   "metadata": {
    "collapsed": true
   },
   "outputs": [
    {
     "ename": "KeyError",
     "evalue": "('event_type', 'pca_composed')",
     "output_type": "error",
     "traceback": [
      "\u001b[0;31m---------------------------------------------------------------------------\u001b[0m",
      "\u001b[0;31mKeyError\u001b[0m                                  Traceback (most recent call last)",
      "\u001b[0;32mC:\\Python35\\lib\\site-packages\\pandas\\indexes\\base.py\u001b[0m in \u001b[0;36mget_loc\u001b[0;34m(self, key, method, tolerance)\u001b[0m\n\u001b[1;32m   1944\u001b[0m             \u001b[0;32mtry\u001b[0m\u001b[0;34m:\u001b[0m\u001b[0;34m\u001b[0m\u001b[0m\n\u001b[0;32m-> 1945\u001b[0;31m                 \u001b[0;32mreturn\u001b[0m \u001b[0mself\u001b[0m\u001b[0;34m.\u001b[0m\u001b[0m_engine\u001b[0m\u001b[0;34m.\u001b[0m\u001b[0mget_loc\u001b[0m\u001b[0;34m(\u001b[0m\u001b[0mkey\u001b[0m\u001b[0;34m)\u001b[0m\u001b[0;34m\u001b[0m\u001b[0m\n\u001b[0m\u001b[1;32m   1946\u001b[0m             \u001b[0;32mexcept\u001b[0m \u001b[0mKeyError\u001b[0m\u001b[0;34m:\u001b[0m\u001b[0;34m\u001b[0m\u001b[0m\n",
      "\u001b[0;32mpandas\\index.pyx\u001b[0m in \u001b[0;36mpandas.index.IndexEngine.get_loc (pandas\\index.c:4066)\u001b[0;34m()\u001b[0m\n",
      "\u001b[0;32mpandas\\index.pyx\u001b[0m in \u001b[0;36mpandas.index.IndexEngine.get_loc (pandas\\index.c:3930)\u001b[0;34m()\u001b[0m\n",
      "\u001b[0;32mpandas\\hashtable.pyx\u001b[0m in \u001b[0;36mpandas.hashtable.PyObjectHashTable.get_item (pandas\\hashtable.c:12408)\u001b[0;34m()\u001b[0m\n",
      "\u001b[0;32mpandas\\hashtable.pyx\u001b[0m in \u001b[0;36mpandas.hashtable.PyObjectHashTable.get_item (pandas\\hashtable.c:12359)\u001b[0;34m()\u001b[0m\n",
      "\u001b[0;31mKeyError\u001b[0m: ('event_type', 'pca_composed')",
      "\nDuring handling of the above exception, another exception occurred:\n",
      "\u001b[0;31mKeyError\u001b[0m                                  Traceback (most recent call last)",
      "\u001b[0;32m<ipython-input-215-d8af4fdda6b1>\u001b[0m in \u001b[0;36m<module>\u001b[0;34m()\u001b[0m\n\u001b[1;32m      1\u001b[0m \u001b[0mfig\u001b[0m\u001b[0;34m,\u001b[0m \u001b[0maxes\u001b[0m \u001b[0;34m=\u001b[0m \u001b[0mplt\u001b[0m\u001b[0;34m.\u001b[0m\u001b[0msubplots\u001b[0m\u001b[0;34m(\u001b[0m\u001b[0mnrows\u001b[0m\u001b[0;34m=\u001b[0m\u001b[0;36m2\u001b[0m\u001b[0;34m,\u001b[0m \u001b[0mncols\u001b[0m\u001b[0;34m=\u001b[0m\u001b[0;36m2\u001b[0m\u001b[0;34m,\u001b[0m \u001b[0msharex\u001b[0m\u001b[0;34m=\u001b[0m\u001b[0;32mTrue\u001b[0m\u001b[0;34m,\u001b[0m \u001b[0msharey\u001b[0m\u001b[0;34m=\u001b[0m\u001b[0;32mTrue\u001b[0m\u001b[0;34m)\u001b[0m\u001b[0;34m\u001b[0m\u001b[0m\n\u001b[1;32m      2\u001b[0m \u001b[0;32mfor\u001b[0m \u001b[0mi\u001b[0m \u001b[0;32min\u001b[0m \u001b[0mrange\u001b[0m\u001b[0;34m(\u001b[0m\u001b[0;36m4\u001b[0m\u001b[0;34m)\u001b[0m\u001b[0;34m:\u001b[0m\u001b[0;34m\u001b[0m\u001b[0m\n\u001b[0;32m----> 3\u001b[0;31m     \u001b[0mclusters\u001b[0m\u001b[0;34m[\u001b[0m\u001b[0mclusters\u001b[0m\u001b[0;34m.\u001b[0m\u001b[0mcluster\u001b[0m\u001b[0;34m==\u001b[0m\u001b[0mi\u001b[0m\u001b[0;34m]\u001b[0m\u001b[0;34m[\u001b[0m\u001b[0;34m'event_type'\u001b[0m\u001b[0;34m,\u001b[0m \u001b[0;34m'pca_composed'\u001b[0m\u001b[0;34m]\u001b[0m\u001b[0;34m.\u001b[0m\u001b[0mplot\u001b[0m\u001b[0;34m(\u001b[0m\u001b[0mkind\u001b[0m\u001b[0;34m=\u001b[0m\u001b[0;34m'bar'\u001b[0m\u001b[0;34m,\u001b[0m \u001b[0max\u001b[0m\u001b[0;34m=\u001b[0m\u001b[0maxes\u001b[0m\u001b[0;34m[\u001b[0m\u001b[0mint\u001b[0m\u001b[0;34m(\u001b[0m\u001b[0mi\u001b[0m\u001b[0;34m/\u001b[0m\u001b[0;36m2\u001b[0m\u001b[0;34m)\u001b[0m\u001b[0;34m]\u001b[0m\u001b[0;34m[\u001b[0m\u001b[0mi\u001b[0m \u001b[0;34m%\u001b[0m \u001b[0;36m2\u001b[0m\u001b[0;34m]\u001b[0m\u001b[0;34m)\u001b[0m\u001b[0;34m\u001b[0m\u001b[0m\n\u001b[0m\u001b[1;32m      4\u001b[0m     \u001b[0maxes\u001b[0m\u001b[0;34m[\u001b[0m\u001b[0mint\u001b[0m\u001b[0;34m(\u001b[0m\u001b[0mi\u001b[0m\u001b[0;34m/\u001b[0m\u001b[0;36m2\u001b[0m\u001b[0;34m)\u001b[0m\u001b[0;34m]\u001b[0m\u001b[0;34m[\u001b[0m\u001b[0mi\u001b[0m \u001b[0;34m%\u001b[0m \u001b[0;36m2\u001b[0m\u001b[0;34m]\u001b[0m\u001b[0;34m.\u001b[0m\u001b[0mset_title\u001b[0m\u001b[0;34m(\u001b[0m\u001b[0;34m'Cluster %s'\u001b[0m \u001b[0;34m%\u001b[0m \u001b[0mstr\u001b[0m\u001b[0;34m(\u001b[0m\u001b[0mi\u001b[0m \u001b[0;34m+\u001b[0m \u001b[0;36m1\u001b[0m\u001b[0;34m)\u001b[0m\u001b[0;34m)\u001b[0m\u001b[0;34m\u001b[0m\u001b[0m\n",
      "\u001b[0;32mC:\\Python35\\lib\\site-packages\\pandas\\core\\frame.py\u001b[0m in \u001b[0;36m__getitem__\u001b[0;34m(self, key)\u001b[0m\n\u001b[1;32m   1995\u001b[0m             \u001b[0;32mreturn\u001b[0m \u001b[0mself\u001b[0m\u001b[0;34m.\u001b[0m\u001b[0m_getitem_multilevel\u001b[0m\u001b[0;34m(\u001b[0m\u001b[0mkey\u001b[0m\u001b[0;34m)\u001b[0m\u001b[0;34m\u001b[0m\u001b[0m\n\u001b[1;32m   1996\u001b[0m         \u001b[0;32melse\u001b[0m\u001b[0;34m:\u001b[0m\u001b[0;34m\u001b[0m\u001b[0m\n\u001b[0;32m-> 1997\u001b[0;31m             \u001b[0;32mreturn\u001b[0m \u001b[0mself\u001b[0m\u001b[0;34m.\u001b[0m\u001b[0m_getitem_column\u001b[0m\u001b[0;34m(\u001b[0m\u001b[0mkey\u001b[0m\u001b[0;34m)\u001b[0m\u001b[0;34m\u001b[0m\u001b[0m\n\u001b[0m\u001b[1;32m   1998\u001b[0m \u001b[0;34m\u001b[0m\u001b[0m\n\u001b[1;32m   1999\u001b[0m     \u001b[0;32mdef\u001b[0m \u001b[0m_getitem_column\u001b[0m\u001b[0;34m(\u001b[0m\u001b[0mself\u001b[0m\u001b[0;34m,\u001b[0m \u001b[0mkey\u001b[0m\u001b[0;34m)\u001b[0m\u001b[0;34m:\u001b[0m\u001b[0;34m\u001b[0m\u001b[0m\n",
      "\u001b[0;32mC:\\Python35\\lib\\site-packages\\pandas\\core\\frame.py\u001b[0m in \u001b[0;36m_getitem_column\u001b[0;34m(self, key)\u001b[0m\n\u001b[1;32m   2002\u001b[0m         \u001b[0;31m# get column\u001b[0m\u001b[0;34m\u001b[0m\u001b[0;34m\u001b[0m\u001b[0m\n\u001b[1;32m   2003\u001b[0m         \u001b[0;32mif\u001b[0m \u001b[0mself\u001b[0m\u001b[0;34m.\u001b[0m\u001b[0mcolumns\u001b[0m\u001b[0;34m.\u001b[0m\u001b[0mis_unique\u001b[0m\u001b[0;34m:\u001b[0m\u001b[0;34m\u001b[0m\u001b[0m\n\u001b[0;32m-> 2004\u001b[0;31m             \u001b[0;32mreturn\u001b[0m \u001b[0mself\u001b[0m\u001b[0;34m.\u001b[0m\u001b[0m_get_item_cache\u001b[0m\u001b[0;34m(\u001b[0m\u001b[0mkey\u001b[0m\u001b[0;34m)\u001b[0m\u001b[0;34m\u001b[0m\u001b[0m\n\u001b[0m\u001b[1;32m   2005\u001b[0m \u001b[0;34m\u001b[0m\u001b[0m\n\u001b[1;32m   2006\u001b[0m         \u001b[0;31m# duplicate columns & possible reduce dimensionality\u001b[0m\u001b[0;34m\u001b[0m\u001b[0;34m\u001b[0m\u001b[0m\n",
      "\u001b[0;32mC:\\Python35\\lib\\site-packages\\pandas\\core\\generic.py\u001b[0m in \u001b[0;36m_get_item_cache\u001b[0;34m(self, item)\u001b[0m\n\u001b[1;32m   1348\u001b[0m         \u001b[0mres\u001b[0m \u001b[0;34m=\u001b[0m \u001b[0mcache\u001b[0m\u001b[0;34m.\u001b[0m\u001b[0mget\u001b[0m\u001b[0;34m(\u001b[0m\u001b[0mitem\u001b[0m\u001b[0;34m)\u001b[0m\u001b[0;34m\u001b[0m\u001b[0m\n\u001b[1;32m   1349\u001b[0m         \u001b[0;32mif\u001b[0m \u001b[0mres\u001b[0m \u001b[0;32mis\u001b[0m \u001b[0;32mNone\u001b[0m\u001b[0;34m:\u001b[0m\u001b[0;34m\u001b[0m\u001b[0m\n\u001b[0;32m-> 1350\u001b[0;31m             \u001b[0mvalues\u001b[0m \u001b[0;34m=\u001b[0m \u001b[0mself\u001b[0m\u001b[0;34m.\u001b[0m\u001b[0m_data\u001b[0m\u001b[0;34m.\u001b[0m\u001b[0mget\u001b[0m\u001b[0;34m(\u001b[0m\u001b[0mitem\u001b[0m\u001b[0;34m)\u001b[0m\u001b[0;34m\u001b[0m\u001b[0m\n\u001b[0m\u001b[1;32m   1351\u001b[0m             \u001b[0mres\u001b[0m \u001b[0;34m=\u001b[0m \u001b[0mself\u001b[0m\u001b[0;34m.\u001b[0m\u001b[0m_box_item_values\u001b[0m\u001b[0;34m(\u001b[0m\u001b[0mitem\u001b[0m\u001b[0;34m,\u001b[0m \u001b[0mvalues\u001b[0m\u001b[0;34m)\u001b[0m\u001b[0;34m\u001b[0m\u001b[0m\n\u001b[1;32m   1352\u001b[0m             \u001b[0mcache\u001b[0m\u001b[0;34m[\u001b[0m\u001b[0mitem\u001b[0m\u001b[0;34m]\u001b[0m \u001b[0;34m=\u001b[0m \u001b[0mres\u001b[0m\u001b[0;34m\u001b[0m\u001b[0m\n",
      "\u001b[0;32mC:\\Python35\\lib\\site-packages\\pandas\\core\\internals.py\u001b[0m in \u001b[0;36mget\u001b[0;34m(self, item, fastpath)\u001b[0m\n\u001b[1;32m   3288\u001b[0m \u001b[0;34m\u001b[0m\u001b[0m\n\u001b[1;32m   3289\u001b[0m             \u001b[0;32mif\u001b[0m \u001b[0;32mnot\u001b[0m \u001b[0misnull\u001b[0m\u001b[0;34m(\u001b[0m\u001b[0mitem\u001b[0m\u001b[0;34m)\u001b[0m\u001b[0;34m:\u001b[0m\u001b[0;34m\u001b[0m\u001b[0m\n\u001b[0;32m-> 3290\u001b[0;31m                 \u001b[0mloc\u001b[0m \u001b[0;34m=\u001b[0m \u001b[0mself\u001b[0m\u001b[0;34m.\u001b[0m\u001b[0mitems\u001b[0m\u001b[0;34m.\u001b[0m\u001b[0mget_loc\u001b[0m\u001b[0;34m(\u001b[0m\u001b[0mitem\u001b[0m\u001b[0;34m)\u001b[0m\u001b[0;34m\u001b[0m\u001b[0m\n\u001b[0m\u001b[1;32m   3291\u001b[0m             \u001b[0;32melse\u001b[0m\u001b[0;34m:\u001b[0m\u001b[0;34m\u001b[0m\u001b[0m\n\u001b[1;32m   3292\u001b[0m                 \u001b[0mindexer\u001b[0m \u001b[0;34m=\u001b[0m \u001b[0mnp\u001b[0m\u001b[0;34m.\u001b[0m\u001b[0marange\u001b[0m\u001b[0;34m(\u001b[0m\u001b[0mlen\u001b[0m\u001b[0;34m(\u001b[0m\u001b[0mself\u001b[0m\u001b[0;34m.\u001b[0m\u001b[0mitems\u001b[0m\u001b[0;34m)\u001b[0m\u001b[0;34m)\u001b[0m\u001b[0;34m[\u001b[0m\u001b[0misnull\u001b[0m\u001b[0;34m(\u001b[0m\u001b[0mself\u001b[0m\u001b[0;34m.\u001b[0m\u001b[0mitems\u001b[0m\u001b[0;34m)\u001b[0m\u001b[0;34m]\u001b[0m\u001b[0;34m\u001b[0m\u001b[0m\n",
      "\u001b[0;32mC:\\Python35\\lib\\site-packages\\pandas\\indexes\\base.py\u001b[0m in \u001b[0;36mget_loc\u001b[0;34m(self, key, method, tolerance)\u001b[0m\n\u001b[1;32m   1945\u001b[0m                 \u001b[0;32mreturn\u001b[0m \u001b[0mself\u001b[0m\u001b[0;34m.\u001b[0m\u001b[0m_engine\u001b[0m\u001b[0;34m.\u001b[0m\u001b[0mget_loc\u001b[0m\u001b[0;34m(\u001b[0m\u001b[0mkey\u001b[0m\u001b[0;34m)\u001b[0m\u001b[0;34m\u001b[0m\u001b[0m\n\u001b[1;32m   1946\u001b[0m             \u001b[0;32mexcept\u001b[0m \u001b[0mKeyError\u001b[0m\u001b[0;34m:\u001b[0m\u001b[0;34m\u001b[0m\u001b[0m\n\u001b[0;32m-> 1947\u001b[0;31m                 \u001b[0;32mreturn\u001b[0m \u001b[0mself\u001b[0m\u001b[0;34m.\u001b[0m\u001b[0m_engine\u001b[0m\u001b[0;34m.\u001b[0m\u001b[0mget_loc\u001b[0m\u001b[0;34m(\u001b[0m\u001b[0mself\u001b[0m\u001b[0;34m.\u001b[0m\u001b[0m_maybe_cast_indexer\u001b[0m\u001b[0;34m(\u001b[0m\u001b[0mkey\u001b[0m\u001b[0;34m)\u001b[0m\u001b[0;34m)\u001b[0m\u001b[0;34m\u001b[0m\u001b[0m\n\u001b[0m\u001b[1;32m   1948\u001b[0m \u001b[0;34m\u001b[0m\u001b[0m\n\u001b[1;32m   1949\u001b[0m         \u001b[0mindexer\u001b[0m \u001b[0;34m=\u001b[0m \u001b[0mself\u001b[0m\u001b[0;34m.\u001b[0m\u001b[0mget_indexer\u001b[0m\u001b[0;34m(\u001b[0m\u001b[0;34m[\u001b[0m\u001b[0mkey\u001b[0m\u001b[0;34m]\u001b[0m\u001b[0;34m,\u001b[0m \u001b[0mmethod\u001b[0m\u001b[0;34m=\u001b[0m\u001b[0mmethod\u001b[0m\u001b[0;34m,\u001b[0m \u001b[0mtolerance\u001b[0m\u001b[0;34m=\u001b[0m\u001b[0mtolerance\u001b[0m\u001b[0;34m)\u001b[0m\u001b[0;34m\u001b[0m\u001b[0m\n",
      "\u001b[0;32mpandas\\index.pyx\u001b[0m in \u001b[0;36mpandas.index.IndexEngine.get_loc (pandas\\index.c:4066)\u001b[0;34m()\u001b[0m\n",
      "\u001b[0;32mpandas\\index.pyx\u001b[0m in \u001b[0;36mpandas.index.IndexEngine.get_loc (pandas\\index.c:3930)\u001b[0;34m()\u001b[0m\n",
      "\u001b[0;32mpandas\\hashtable.pyx\u001b[0m in \u001b[0;36mpandas.hashtable.PyObjectHashTable.get_item (pandas\\hashtable.c:12408)\u001b[0;34m()\u001b[0m\n",
      "\u001b[0;32mpandas\\hashtable.pyx\u001b[0m in \u001b[0;36mpandas.hashtable.PyObjectHashTable.get_item (pandas\\hashtable.c:12359)\u001b[0;34m()\u001b[0m\n",
      "\u001b[0;31mKeyError\u001b[0m: ('event_type', 'pca_composed')"
     ]
    },
    {
     "data": {
      "image/png": "[encoded data removed]",
      "text/plain": [
       "<matplotlib.figure.Figure at 0x29c9ff3eda0>"
      ]
     },
     "metadata": {},
     "output_type": "display_data"
    }
   ],
   "source": [
    "fig, axes = plt.subplots(nrows=2, ncols=2, sharex=True, sharey=True)\n",
    "for i in range(4):\n",
    "    clusters[clusters.cluster==i]['event_type', 'pca_composed'].plot(kind='bar', ax=axes[int(i/2)][i % 2])\n",
    "    axes[int(i/2)][i % 2].set_title('Cluster %s' % str(i + 1))"
   ]
  },
  {
   "cell_type": "code",
   "execution_count": 207,
   "metadata": {
    "collapsed": true
   },
   "outputs": [
    {
     "data": {
      "text/plain": [
       "<seaborn.axisgrid.PairGrid at 0x29c94dc5278>"
      ]
     },
     "execution_count": 207,
     "metadata": {},
     "output_type": "execute_result"
    },
    {
     "data": {
      "image/png": "[encoded data removed]",
      "text/plain": [
       "<matplotlib.figure.Figure at 0x29c94dc5da0>"
      ]
     },
     "metadata": {},
     "output_type": "display_data"
    }
   ],
   "source": [
    "sns.pairplot(clusters, vars=['cpu_request', 'memory_request'], hue=\"event_type\", aspect=2)"
   ]
  },
  {
   "cell_type": "code",
   "execution_count": 217,
   "metadata": {
    "collapsed": false
   },
   "outputs": [],
   "source": [
    "from sklearn import cluster, datasets"
   ]
  },
  {
   "cell_type": "code",
   "execution_count": 218,
   "metadata": {
    "collapsed": true
   },
   "outputs": [],
   "source": [
    "iris = datasets.load_iris()"
   ]
  },
  {
   "cell_type": "code",
   "execution_count": 223,
   "metadata": {
    "collapsed": false
   },
   "outputs": [
    {
     "data": {
      "text/plain": [
       "array([[ 5.1,  3.5,  1.4,  0.2],\n",
       "       [ 4.9,  3. ,  1.4,  0.2],\n",
       "       [ 4.7,  3.2,  1.3,  0.2],\n",
       "       [ 4.6,  3.1,  1.5,  0.2],\n",
       "       [ 5. ,  3.6,  1.4,  0.2],\n",
       "       [ 5.4,  3.9,  1.7,  0.4],\n",
       "       [ 4.6,  3.4,  1.4,  0.3],\n",
       "       [ 5. ,  3.4,  1.5,  0.2],\n",
       "       [ 4.4,  2.9,  1.4,  0.2],\n",
       "       [ 4.9,  3.1,  1.5,  0.1],\n",
       "       [ 5.4,  3.7,  1.5,  0.2],\n",
       "       [ 4.8,  3.4,  1.6,  0.2],\n",
       "       [ 4.8,  3. ,  1.4,  0.1],\n",
       "       [ 4.3,  3. ,  1.1,  0.1],\n",
       "       [ 5.8,  4. ,  1.2,  0.2],\n",
       "       [ 5.7,  4.4,  1.5,  0.4],\n",
       "       [ 5.4,  3.9,  1.3,  0.4],\n",
       "       [ 5.1,  3.5,  1.4,  0.3],\n",
       "       [ 5.7,  3.8,  1.7,  0.3],\n",
       "       [ 5.1,  3.8,  1.5,  0.3],\n",
       "       [ 5.4,  3.4,  1.7,  0.2],\n",
       "       [ 5.1,  3.7,  1.5,  0.4],\n",
       "       [ 4.6,  3.6,  1. ,  0.2],\n",
       "       [ 5.1,  3.3,  1.7,  0.5],\n",
       "       [ 4.8,  3.4,  1.9,  0.2],\n",
       "       [ 5. ,  3. ,  1.6,  0.2],\n",
       "       [ 5. ,  3.4,  1.6,  0.4],\n",
       "       [ 5.2,  3.5,  1.5,  0.2],\n",
       "       [ 5.2,  3.4,  1.4,  0.2],\n",
       "       [ 4.7,  3.2,  1.6,  0.2],\n",
       "       [ 4.8,  3.1,  1.6,  0.2],\n",
       "       [ 5.4,  3.4,  1.5,  0.4],\n",
       "       [ 5.2,  4.1,  1.5,  0.1],\n",
       "       [ 5.5,  4.2,  1.4,  0.2],\n",
       "       [ 4.9,  3.1,  1.5,  0.1],\n",
       "       [ 5. ,  3.2,  1.2,  0.2],\n",
       "       [ 5.5,  3.5,  1.3,  0.2],\n",
       "       [ 4.9,  3.1,  1.5,  0.1],\n",
       "       [ 4.4,  3. ,  1.3,  0.2],\n",
       "       [ 5.1,  3.4,  1.5,  0.2],\n",
       "       [ 5. ,  3.5,  1.3,  0.3],\n",
       "       [ 4.5,  2.3,  1.3,  0.3],\n",
       "       [ 4.4,  3.2,  1.3,  0.2],\n",
       "       [ 5. ,  3.5,  1.6,  0.6],\n",
       "       [ 5.1,  3.8,  1.9,  0.4],\n",
       "       [ 4.8,  3. ,  1.4,  0.3],\n",
       "       [ 5.1,  3.8,  1.6,  0.2],\n",
       "       [ 4.6,  3.2,  1.4,  0.2],\n",
       "       [ 5.3,  3.7,  1.5,  0.2],\n",
       "       [ 5. ,  3.3,  1.4,  0.2],\n",
       "       [ 7. ,  3.2,  4.7,  1.4],\n",
       "       [ 6.4,  3.2,  4.5,  1.5],\n",
       "       [ 6.9,  3.1,  4.9,  1.5],\n",
       "       [ 5.5,  2.3,  4. ,  1.3],\n",
       "       [ 6.5,  2.8,  4.6,  1.5],\n",
       "       [ 5.7,  2.8,  4.5,  1.3],\n",
       "       [ 6.3,  3.3,  4.7,  1.6],\n",
       "       [ 4.9,  2.4,  3.3,  1. ],\n",
       "       [ 6.6,  2.9,  4.6,  1.3],\n",
       "       [ 5.2,  2.7,  3.9,  1.4],\n",
       "       [ 5. ,  2. ,  3.5,  1. ],\n",
       "       [ 5.9,  3. ,  4.2,  1.5],\n",
       "       [ 6. ,  2.2,  4. ,  1. ],\n",
       "       [ 6.1,  2.9,  4.7,  1.4],\n",
       "       [ 5.6,  2.9,  3.6,  1.3],\n",
       "       [ 6.7,  3.1,  4.4,  1.4],\n",
       "       [ 5.6,  3. ,  4.5,  1.5],\n",
       "       [ 5.8,  2.7,  4.1,  1. ],\n",
       "       [ 6.2,  2.2,  4.5,  1.5],\n",
       "       [ 5.6,  2.5,  3.9,  1.1],\n",
       "       [ 5.9,  3.2,  4.8,  1.8],\n",
       "       [ 6.1,  2.8,  4. ,  1.3],\n",
       "       [ 6.3,  2.5,  4.9,  1.5],\n",
       "       [ 6.1,  2.8,  4.7,  1.2],\n",
       "       [ 6.4,  2.9,  4.3,  1.3],\n",
       "       [ 6.6,  3. ,  4.4,  1.4],\n",
       "       [ 6.8,  2.8,  4.8,  1.4],\n",
       "       [ 6.7,  3. ,  5. ,  1.7],\n",
       "       [ 6. ,  2.9,  4.5,  1.5],\n",
       "       [ 5.7,  2.6,  3.5,  1. ],\n",
       "       [ 5.5,  2.4,  3.8,  1.1],\n",
       "       [ 5.5,  2.4,  3.7,  1. ],\n",
       "       [ 5.8,  2.7,  3.9,  1.2],\n",
       "       [ 6. ,  2.7,  5.1,  1.6],\n",
       "       [ 5.4,  3. ,  4.5,  1.5],\n",
       "       [ 6. ,  3.4,  4.5,  1.6],\n",
       "       [ 6.7,  3.1,  4.7,  1.5],\n",
       "       [ 6.3,  2.3,  4.4,  1.3],\n",
       "       [ 5.6,  3. ,  4.1,  1.3],\n",
       "       [ 5.5,  2.5,  4. ,  1.3],\n",
       "       [ 5.5,  2.6,  4.4,  1.2],\n",
       "       [ 6.1,  3. ,  4.6,  1.4],\n",
       "       [ 5.8,  2.6,  4. ,  1.2],\n",
       "       [ 5. ,  2.3,  3.3,  1. ],\n",
       "       [ 5.6,  2.7,  4.2,  1.3],\n",
       "       [ 5.7,  3. ,  4.2,  1.2],\n",
       "       [ 5.7,  2.9,  4.2,  1.3],\n",
       "       [ 6.2,  2.9,  4.3,  1.3],\n",
       "       [ 5.1,  2.5,  3. ,  1.1],\n",
       "       [ 5.7,  2.8,  4.1,  1.3],\n",
       "       [ 6.3,  3.3,  6. ,  2.5],\n",
       "       [ 5.8,  2.7,  5.1,  1.9],\n",
       "       [ 7.1,  3. ,  5.9,  2.1],\n",
       "       [ 6.3,  2.9,  5.6,  1.8],\n",
       "       [ 6.5,  3. ,  5.8,  2.2],\n",
       "       [ 7.6,  3. ,  6.6,  2.1],\n",
       "       [ 4.9,  2.5,  4.5,  1.7],\n",
       "       [ 7.3,  2.9,  6.3,  1.8],\n",
       "       [ 6.7,  2.5,  5.8,  1.8],\n",
       "       [ 7.2,  3.6,  6.1,  2.5],\n",
       "       [ 6.5,  3.2,  5.1,  2. ],\n",
       "       [ 6.4,  2.7,  5.3,  1.9],\n",
       "       [ 6.8,  3. ,  5.5,  2.1],\n",
       "       [ 5.7,  2.5,  5. ,  2. ],\n",
       "       [ 5.8,  2.8,  5.1,  2.4],\n",
       "       [ 6.4,  3.2,  5.3,  2.3],\n",
       "       [ 6.5,  3. ,  5.5,  1.8],\n",
       "       [ 7.7,  3.8,  6.7,  2.2],\n",
       "       [ 7.7,  2.6,  6.9,  2.3],\n",
       "       [ 6. ,  2.2,  5. ,  1.5],\n",
       "       [ 6.9,  3.2,  5.7,  2.3],\n",
       "       [ 5.6,  2.8,  4.9,  2. ],\n",
       "       [ 7.7,  2.8,  6.7,  2. ],\n",
       "       [ 6.3,  2.7,  4.9,  1.8],\n",
       "       [ 6.7,  3.3,  5.7,  2.1],\n",
       "       [ 7.2,  3.2,  6. ,  1.8],\n",
       "       [ 6.2,  2.8,  4.8,  1.8],\n",
       "       [ 6.1,  3. ,  4.9,  1.8],\n",
       "       [ 6.4,  2.8,  5.6,  2.1],\n",
       "       [ 7.2,  3. ,  5.8,  1.6],\n",
       "       [ 7.4,  2.8,  6.1,  1.9],\n",
       "       [ 7.9,  3.8,  6.4,  2. ],\n",
       "       [ 6.4,  2.8,  5.6,  2.2],\n",
       "       [ 6.3,  2.8,  5.1,  1.5],\n",
       "       [ 6.1,  2.6,  5.6,  1.4],\n",
       "       [ 7.7,  3. ,  6.1,  2.3],\n",
       "       [ 6.3,  3.4,  5.6,  2.4],\n",
       "       [ 6.4,  3.1,  5.5,  1.8],\n",
       "       [ 6. ,  3. ,  4.8,  1.8],\n",
       "       [ 6.9,  3.1,  5.4,  2.1],\n",
       "       [ 6.7,  3.1,  5.6,  2.4],\n",
       "       [ 6.9,  3.1,  5.1,  2.3],\n",
       "       [ 5.8,  2.7,  5.1,  1.9],\n",
       "       [ 6.8,  3.2,  5.9,  2.3],\n",
       "       [ 6.7,  3.3,  5.7,  2.5],\n",
       "       [ 6.7,  3. ,  5.2,  2.3],\n",
       "       [ 6.3,  2.5,  5. ,  1.9],\n",
       "       [ 6.5,  3. ,  5.2,  2. ],\n",
       "       [ 6.2,  3.4,  5.4,  2.3],\n",
       "       [ 5.9,  3. ,  5.1,  1.8]])"
      ]
     },
     "execution_count": 223,
     "metadata": {},
     "output_type": "execute_result"
    }
   ],
   "source": [
    "iris.data"
   ]
  },
  {
   "cell_type": "code",
   "execution_count": 224,
   "metadata": {
    "collapsed": false
   },
   "outputs": [
    {
     "data": {
      "text/plain": [
       "array([0, 0, 0, 0, 0, 0, 0, 0, 0, 0, 0, 0, 0, 0, 0, 0, 0, 0, 0, 0, 0, 0, 0,\n",
       "       0, 0, 0, 0, 0, 0, 0, 0, 0, 0, 0, 0, 0, 0, 0, 0, 0, 0, 0, 0, 0, 0, 0,\n",
       "       0, 0, 0, 0, 1, 1, 1, 1, 1, 1, 1, 1, 1, 1, 1, 1, 1, 1, 1, 1, 1, 1, 1,\n",
       "       1, 1, 1, 1, 1, 1, 1, 1, 1, 1, 1, 1, 1, 1, 1, 1, 1, 1, 1, 1, 1, 1, 1,\n",
       "       1, 1, 1, 1, 1, 1, 1, 1, 2, 2, 2, 2, 2, 2, 2, 2, 2, 2, 2, 2, 2, 2, 2,\n",
       "       2, 2, 2, 2, 2, 2, 2, 2, 2, 2, 2, 2, 2, 2, 2, 2, 2, 2, 2, 2, 2, 2, 2,\n",
       "       2, 2, 2, 2, 2, 2, 2, 2, 2, 2, 2, 2])"
      ]
     },
     "execution_count": 224,
     "metadata": {},
     "output_type": "execute_result"
    }
   ],
   "source": [
    "iris.target"
   ]
  },
  {
   "cell_type": "code",
   "execution_count": null,
   "metadata": {
    "collapsed": true
   },
   "outputs": [],
   "source": []
  }
 ],
 "metadata": {
  "kernelspec": {
   "display_name": "Python 3",
   "language": "python",
   "name": "python3"
  },
  "language_info": {
   "codemirror_mode": {
    "name": "ipython",
    "version": 3
   },
   "file_extension": ".py",
   "mimetype": "text/x-python",
   "name": "python",
   "nbconvert_exporter": "python",
   "pygments_lexer": "ipython3",
   "version": "3.5.2"
  }
 },
 "nbformat": 4,
 "nbformat_minor": 0
}
